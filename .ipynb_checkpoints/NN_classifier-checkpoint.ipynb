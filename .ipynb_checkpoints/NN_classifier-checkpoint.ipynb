{
 "cells": [
  {
   "cell_type": "code",
   "execution_count": 1,
   "metadata": {
    "colab": {},
    "colab_type": "code",
    "id": "tf8Dx2ykENv9"
   },
   "outputs": [],
   "source": [
    "import pandas as pd\n",
    "import os\n",
    "import numpy as np\n",
    "import matplotlib.pyplot as plt\n",
    "%matplotlib inline"
   ]
  },
  {
   "cell_type": "code",
   "execution_count": 7,
   "metadata": {},
   "outputs": [
    {
     "name": "stdout",
     "output_type": "stream",
     "text": [
      "Downloading pima-indians-diabetes-database.zip to C:\\Users\\lorenzo.ostano\\PycharmProjects\\Diabetes_Prediction\n",
      "\n"
     ]
    },
    {
     "name": "stderr",
     "output_type": "stream",
     "text": [
      "\n",
      "  0%|          | 0.00/8.91k [00:00<?, ?B/s]\n",
      "100%|##########| 8.91k/8.91k [00:00<?, ?B/s]\n"
     ]
    }
   ],
   "source": [
    "!kaggle datasets download -d uciml/pima-indians-diabetes-database"
   ]
  },
  {
   "cell_type": "markdown",
   "metadata": {},
   "source": [
    "Unzip the dataset"
   ]
  },
  {
   "cell_type": "code",
   "execution_count": 14,
   "metadata": {},
   "outputs": [],
   "source": [
    "import zipfile\n",
    "\n",
    "with zipfile.ZipFile(\"pima-indians-diabetes-database.zip\", 'r') as zip_ref:\n",
    "    zip_ref.extractall()"
   ]
  },
  {
   "cell_type": "code",
   "execution_count": 3,
   "metadata": {
    "colab": {},
    "colab_type": "code",
    "id": "P9YzqGCEHuxj"
   },
   "outputs": [],
   "source": [
    "path = os.getcwd()"
   ]
  },
  {
   "cell_type": "code",
   "execution_count": 4,
   "metadata": {
    "colab": {
     "base_uri": "https://localhost:8080/",
     "height": 204
    },
    "colab_type": "code",
    "executionInfo": {
     "elapsed": 628,
     "status": "ok",
     "timestamp": 1585298671312,
     "user": {
      "displayName": "Lorenzo Ostano",
      "photoUrl": "https://lh3.googleusercontent.com/a-/AOh14GgFg_mu4dJX96K7a9vTgwq0mMymhejwY6xYsf9DyA=s64",
      "userId": "12249114541243713917"
     },
     "user_tz": -60
    },
    "id": "2SpNnJPcHzrL",
    "outputId": "478d8ecc-f367-4cc4-8204-aa3685340d7e"
   },
   "outputs": [
    {
     "data": {
      "text/html": [
       "<div>\n",
       "<style scoped>\n",
       "    .dataframe tbody tr th:only-of-type {\n",
       "        vertical-align: middle;\n",
       "    }\n",
       "\n",
       "    .dataframe tbody tr th {\n",
       "        vertical-align: top;\n",
       "    }\n",
       "\n",
       "    .dataframe thead th {\n",
       "        text-align: right;\n",
       "    }\n",
       "</style>\n",
       "<table border=\"1\" class=\"dataframe\">\n",
       "  <thead>\n",
       "    <tr style=\"text-align: right;\">\n",
       "      <th></th>\n",
       "      <th>Pregnancies</th>\n",
       "      <th>Glucose</th>\n",
       "      <th>BloodPressure</th>\n",
       "      <th>SkinThickness</th>\n",
       "      <th>Insulin</th>\n",
       "      <th>BMI</th>\n",
       "      <th>DiabetesPedigreeFunction</th>\n",
       "      <th>Age</th>\n",
       "      <th>Outcome</th>\n",
       "    </tr>\n",
       "  </thead>\n",
       "  <tbody>\n",
       "    <tr>\n",
       "      <th>0</th>\n",
       "      <td>6</td>\n",
       "      <td>148</td>\n",
       "      <td>72</td>\n",
       "      <td>35</td>\n",
       "      <td>0</td>\n",
       "      <td>33.6</td>\n",
       "      <td>0.627</td>\n",
       "      <td>50</td>\n",
       "      <td>1</td>\n",
       "    </tr>\n",
       "    <tr>\n",
       "      <th>1</th>\n",
       "      <td>1</td>\n",
       "      <td>85</td>\n",
       "      <td>66</td>\n",
       "      <td>29</td>\n",
       "      <td>0</td>\n",
       "      <td>26.6</td>\n",
       "      <td>0.351</td>\n",
       "      <td>31</td>\n",
       "      <td>0</td>\n",
       "    </tr>\n",
       "    <tr>\n",
       "      <th>2</th>\n",
       "      <td>8</td>\n",
       "      <td>183</td>\n",
       "      <td>64</td>\n",
       "      <td>0</td>\n",
       "      <td>0</td>\n",
       "      <td>23.3</td>\n",
       "      <td>0.672</td>\n",
       "      <td>32</td>\n",
       "      <td>1</td>\n",
       "    </tr>\n",
       "    <tr>\n",
       "      <th>3</th>\n",
       "      <td>1</td>\n",
       "      <td>89</td>\n",
       "      <td>66</td>\n",
       "      <td>23</td>\n",
       "      <td>94</td>\n",
       "      <td>28.1</td>\n",
       "      <td>0.167</td>\n",
       "      <td>21</td>\n",
       "      <td>0</td>\n",
       "    </tr>\n",
       "    <tr>\n",
       "      <th>4</th>\n",
       "      <td>0</td>\n",
       "      <td>137</td>\n",
       "      <td>40</td>\n",
       "      <td>35</td>\n",
       "      <td>168</td>\n",
       "      <td>43.1</td>\n",
       "      <td>2.288</td>\n",
       "      <td>33</td>\n",
       "      <td>1</td>\n",
       "    </tr>\n",
       "  </tbody>\n",
       "</table>\n",
       "</div>"
      ],
      "text/plain": [
       "   Pregnancies  Glucose  BloodPressure  SkinThickness  Insulin   BMI  \\\n",
       "0            6      148             72             35        0  33.6   \n",
       "1            1       85             66             29        0  26.6   \n",
       "2            8      183             64              0        0  23.3   \n",
       "3            1       89             66             23       94  28.1   \n",
       "4            0      137             40             35      168  43.1   \n",
       "\n",
       "   DiabetesPedigreeFunction  Age  Outcome  \n",
       "0                     0.627   50        1  \n",
       "1                     0.351   31        0  \n",
       "2                     0.672   32        1  \n",
       "3                     0.167   21        0  \n",
       "4                     2.288   33        1  "
      ]
     },
     "execution_count": 4,
     "metadata": {},
     "output_type": "execute_result"
    }
   ],
   "source": [
    "df = pd.read_csv(os.path.join(path, 'diabetes.csv'))\n",
    "#df.drop('Unnamed: 0', axis=1, inplace=True)\n",
    "df.head()"
   ]
  },
  {
   "cell_type": "code",
   "execution_count": 5,
   "metadata": {
    "colab": {
     "base_uri": "https://localhost:8080/",
     "height": 34
    },
    "colab_type": "code",
    "executionInfo": {
     "elapsed": 1031,
     "status": "ok",
     "timestamp": 1585298673141,
     "user": {
      "displayName": "Lorenzo Ostano",
      "photoUrl": "https://lh3.googleusercontent.com/a-/AOh14GgFg_mu4dJX96K7a9vTgwq0mMymhejwY6xYsf9DyA=s64",
      "userId": "12249114541243713917"
     },
     "user_tz": -60
    },
    "id": "QiJADiP3H1F0",
    "outputId": "4f05ce9f-3dea-4805-d7e5-1e9677fad34b"
   },
   "outputs": [
    {
     "data": {
      "text/plain": [
       "(768, 9)"
      ]
     },
     "execution_count": 5,
     "metadata": {},
     "output_type": "execute_result"
    }
   ],
   "source": [
    "df.shape"
   ]
  },
  {
   "cell_type": "markdown",
   "metadata": {
    "colab_type": "text",
    "id": "SOAomO7sH-M0"
   },
   "source": [
    "# **Numerical Variables**"
   ]
  },
  {
   "cell_type": "code",
   "execution_count": 6,
   "metadata": {
    "colab": {
     "base_uri": "https://localhost:8080/",
     "height": 221
    },
    "colab_type": "code",
    "executionInfo": {
     "elapsed": 544,
     "status": "ok",
     "timestamp": 1585298673604,
     "user": {
      "displayName": "Lorenzo Ostano",
      "photoUrl": "https://lh3.googleusercontent.com/a-/AOh14GgFg_mu4dJX96K7a9vTgwq0mMymhejwY6xYsf9DyA=s64",
      "userId": "12249114541243713917"
     },
     "user_tz": -60
    },
    "id": "gVmYyzaoH2ua",
    "outputId": "4a7a4437-76b0-4fe5-ec31-82e4b7ca06c9"
   },
   "outputs": [
    {
     "name": "stdout",
     "output_type": "stream",
     "text": [
      "Number of numerical variables:  8\n"
     ]
    },
    {
     "data": {
      "text/html": [
       "<div>\n",
       "<style scoped>\n",
       "    .dataframe tbody tr th:only-of-type {\n",
       "        vertical-align: middle;\n",
       "    }\n",
       "\n",
       "    .dataframe tbody tr th {\n",
       "        vertical-align: top;\n",
       "    }\n",
       "\n",
       "    .dataframe thead th {\n",
       "        text-align: right;\n",
       "    }\n",
       "</style>\n",
       "<table border=\"1\" class=\"dataframe\">\n",
       "  <thead>\n",
       "    <tr style=\"text-align: right;\">\n",
       "      <th></th>\n",
       "      <th>Pregnancies</th>\n",
       "      <th>Glucose</th>\n",
       "      <th>BloodPressure</th>\n",
       "      <th>SkinThickness</th>\n",
       "      <th>Insulin</th>\n",
       "      <th>BMI</th>\n",
       "      <th>DiabetesPedigreeFunction</th>\n",
       "      <th>Age</th>\n",
       "    </tr>\n",
       "  </thead>\n",
       "  <tbody>\n",
       "    <tr>\n",
       "      <th>0</th>\n",
       "      <td>6</td>\n",
       "      <td>148</td>\n",
       "      <td>72</td>\n",
       "      <td>35</td>\n",
       "      <td>0</td>\n",
       "      <td>33.6</td>\n",
       "      <td>0.627</td>\n",
       "      <td>50</td>\n",
       "    </tr>\n",
       "    <tr>\n",
       "      <th>1</th>\n",
       "      <td>1</td>\n",
       "      <td>85</td>\n",
       "      <td>66</td>\n",
       "      <td>29</td>\n",
       "      <td>0</td>\n",
       "      <td>26.6</td>\n",
       "      <td>0.351</td>\n",
       "      <td>31</td>\n",
       "    </tr>\n",
       "    <tr>\n",
       "      <th>2</th>\n",
       "      <td>8</td>\n",
       "      <td>183</td>\n",
       "      <td>64</td>\n",
       "      <td>0</td>\n",
       "      <td>0</td>\n",
       "      <td>23.3</td>\n",
       "      <td>0.672</td>\n",
       "      <td>32</td>\n",
       "    </tr>\n",
       "    <tr>\n",
       "      <th>3</th>\n",
       "      <td>1</td>\n",
       "      <td>89</td>\n",
       "      <td>66</td>\n",
       "      <td>23</td>\n",
       "      <td>94</td>\n",
       "      <td>28.1</td>\n",
       "      <td>0.167</td>\n",
       "      <td>21</td>\n",
       "    </tr>\n",
       "    <tr>\n",
       "      <th>4</th>\n",
       "      <td>0</td>\n",
       "      <td>137</td>\n",
       "      <td>40</td>\n",
       "      <td>35</td>\n",
       "      <td>168</td>\n",
       "      <td>43.1</td>\n",
       "      <td>2.288</td>\n",
       "      <td>33</td>\n",
       "    </tr>\n",
       "  </tbody>\n",
       "</table>\n",
       "</div>"
      ],
      "text/plain": [
       "   Pregnancies  Glucose  BloodPressure  SkinThickness  Insulin   BMI  \\\n",
       "0            6      148             72             35        0  33.6   \n",
       "1            1       85             66             29        0  26.6   \n",
       "2            8      183             64              0        0  23.3   \n",
       "3            1       89             66             23       94  28.1   \n",
       "4            0      137             40             35      168  43.1   \n",
       "\n",
       "   DiabetesPedigreeFunction  Age  \n",
       "0                     0.627   50  \n",
       "1                     0.351   31  \n",
       "2                     0.672   32  \n",
       "3                     0.167   21  \n",
       "4                     2.288   33  "
      ]
     },
     "execution_count": 6,
     "metadata": {},
     "output_type": "execute_result"
    }
   ],
   "source": [
    "# list of numerical variables\n",
    "num_vars = [var for var in df.columns if df[var].dtypes != 'O' and var != 'Outcome']\n",
    "\n",
    "print('Number of numerical variables: ', len(num_vars))\n",
    "\n",
    "# visualise the numerical variables\n",
    "df[num_vars].head()"
   ]
  },
  {
   "cell_type": "markdown",
   "metadata": {
    "colab_type": "text",
    "id": "ANwzQg6FIaAJ"
   },
   "source": [
    "**Discrete Vars**"
   ]
  },
  {
   "cell_type": "code",
   "execution_count": 7,
   "metadata": {
    "colab": {
     "base_uri": "https://localhost:8080/",
     "height": 34
    },
    "colab_type": "code",
    "executionInfo": {
     "elapsed": 628,
     "status": "ok",
     "timestamp": 1585298674615,
     "user": {
      "displayName": "Lorenzo Ostano",
      "photoUrl": "https://lh3.googleusercontent.com/a-/AOh14GgFg_mu4dJX96K7a9vTgwq0mMymhejwY6xYsf9DyA=s64",
      "userId": "12249114541243713917"
     },
     "user_tz": -60
    },
    "id": "Q7tDPuEPH9J1",
    "outputId": "78d009ee-2b19-4131-bdf6-a74a3572af70"
   },
   "outputs": [
    {
     "name": "stdout",
     "output_type": "stream",
     "text": [
      "Number of discrete variables:  1\n"
     ]
    }
   ],
   "source": [
    "#  list of discrete variables\n",
    "discrete_vars = [var for var in num_vars if len(df[var].unique())<20 and var != 'Outcome']\n",
    "\n",
    "print('Number of discrete variables: ', len(discrete_vars))"
   ]
  },
  {
   "cell_type": "code",
   "execution_count": 8,
   "metadata": {
    "colab": {
     "base_uri": "https://localhost:8080/",
     "height": 204
    },
    "colab_type": "code",
    "executionInfo": {
     "elapsed": 689,
     "status": "ok",
     "timestamp": 1585298675158,
     "user": {
      "displayName": "Lorenzo Ostano",
      "photoUrl": "https://lh3.googleusercontent.com/a-/AOh14GgFg_mu4dJX96K7a9vTgwq0mMymhejwY6xYsf9DyA=s64",
      "userId": "12249114541243713917"
     },
     "user_tz": -60
    },
    "id": "FIBqrjkvIZZj",
    "outputId": "70bf0cbb-3938-473d-a1c6-67d0680a9da1"
   },
   "outputs": [
    {
     "data": {
      "text/html": [
       "<div>\n",
       "<style scoped>\n",
       "    .dataframe tbody tr th:only-of-type {\n",
       "        vertical-align: middle;\n",
       "    }\n",
       "\n",
       "    .dataframe tbody tr th {\n",
       "        vertical-align: top;\n",
       "    }\n",
       "\n",
       "    .dataframe thead th {\n",
       "        text-align: right;\n",
       "    }\n",
       "</style>\n",
       "<table border=\"1\" class=\"dataframe\">\n",
       "  <thead>\n",
       "    <tr style=\"text-align: right;\">\n",
       "      <th></th>\n",
       "      <th>Pregnancies</th>\n",
       "    </tr>\n",
       "  </thead>\n",
       "  <tbody>\n",
       "    <tr>\n",
       "      <th>0</th>\n",
       "      <td>6</td>\n",
       "    </tr>\n",
       "    <tr>\n",
       "      <th>1</th>\n",
       "      <td>1</td>\n",
       "    </tr>\n",
       "    <tr>\n",
       "      <th>2</th>\n",
       "      <td>8</td>\n",
       "    </tr>\n",
       "    <tr>\n",
       "      <th>3</th>\n",
       "      <td>1</td>\n",
       "    </tr>\n",
       "    <tr>\n",
       "      <th>4</th>\n",
       "      <td>0</td>\n",
       "    </tr>\n",
       "  </tbody>\n",
       "</table>\n",
       "</div>"
      ],
      "text/plain": [
       "   Pregnancies\n",
       "0            6\n",
       "1            1\n",
       "2            8\n",
       "3            1\n",
       "4            0"
      ]
     },
     "execution_count": 8,
     "metadata": {},
     "output_type": "execute_result"
    }
   ],
   "source": [
    "# let's visualise the discrete variables\n",
    "df[discrete_vars].head()"
   ]
  },
  {
   "cell_type": "code",
   "execution_count": 9,
   "metadata": {
    "colab": {
     "base_uri": "https://localhost:8080/",
     "height": 299
    },
    "colab_type": "code",
    "executionInfo": {
     "elapsed": 1422,
     "status": "ok",
     "timestamp": 1585298676335,
     "user": {
      "displayName": "Lorenzo Ostano",
      "photoUrl": "https://lh3.googleusercontent.com/a-/AOh14GgFg_mu4dJX96K7a9vTgwq0mMymhejwY6xYsf9DyA=s64",
      "userId": "12249114541243713917"
     },
     "user_tz": -60
    },
    "id": "bLrpo-RjIe6j",
    "outputId": "6085936a-2402-4b44-e77f-79f73695f967"
   },
   "outputs": [
    {
     "data": {
      "image/png": "[encoded data removed]",
      "text/plain": [
       "<Figure size 432x288 with 1 Axes>"
      ]
     },
     "metadata": {
      "needs_background": "light"
     },
     "output_type": "display_data"
    }
   ],
   "source": [
    "def analyze_discrete(df, var):\n",
    "    df = df.copy()\n",
    "    df.groupby(var)['Outcome'].median().plot.bar()\n",
    "    plt.title(var)\n",
    "    plt.ylabel('Outcome')\n",
    "    plt.show()\n",
    "    \n",
    "for var in discrete_vars:\n",
    "    analyze_discrete(df, var)"
   ]
  },
  {
   "cell_type": "markdown",
   "metadata": {
    "colab_type": "text",
    "id": "T0xxswV1IlV_"
   },
   "source": [
    "**Continuous Variables**"
   ]
  },
  {
   "cell_type": "code",
   "execution_count": 10,
   "metadata": {
    "colab": {
     "base_uri": "https://localhost:8080/",
     "height": 34
    },
    "colab_type": "code",
    "executionInfo": {
     "elapsed": 1472,
     "status": "ok",
     "timestamp": 1585298677418,
     "user": {
      "displayName": "Lorenzo Ostano",
      "photoUrl": "https://lh3.googleusercontent.com/a-/AOh14GgFg_mu4dJX96K7a9vTgwq0mMymhejwY6xYsf9DyA=s64",
      "userId": "12249114541243713917"
     },
     "user_tz": -60
    },
    "id": "7X2IMgiSIi0v",
    "outputId": "594abb84-15d0-4e60-96c7-12e6349d9600"
   },
   "outputs": [
    {
     "name": "stdout",
     "output_type": "stream",
     "text": [
      "Number of continuous variables:  7\n"
     ]
    }
   ],
   "source": [
    "# list of continuous variables\n",
    "cont_vars = [var for var in num_vars if var not in discrete_vars+['Outcome']]\n",
    "\n",
    "print('Number of continuous variables: ', len(cont_vars))"
   ]
  },
  {
   "cell_type": "code",
   "execution_count": 11,
   "metadata": {
    "colab": {
     "base_uri": "https://localhost:8080/",
     "height": 204
    },
    "colab_type": "code",
    "executionInfo": {
     "elapsed": 1387,
     "status": "ok",
     "timestamp": 1585298677840,
     "user": {
      "displayName": "Lorenzo Ostano",
      "photoUrl": "https://lh3.googleusercontent.com/a-/AOh14GgFg_mu4dJX96K7a9vTgwq0mMymhejwY6xYsf9DyA=s64",
      "userId": "12249114541243713917"
     },
     "user_tz": -60
    },
    "id": "6b1QoL1mIqhn",
    "outputId": "38c6a659-0c1c-4e5e-8e5b-f62b4fa1bb73"
   },
   "outputs": [
    {
     "data": {
      "text/html": [
       "<div>\n",
       "<style scoped>\n",
       "    .dataframe tbody tr th:only-of-type {\n",
       "        vertical-align: middle;\n",
       "    }\n",
       "\n",
       "    .dataframe tbody tr th {\n",
       "        vertical-align: top;\n",
       "    }\n",
       "\n",
       "    .dataframe thead th {\n",
       "        text-align: right;\n",
       "    }\n",
       "</style>\n",
       "<table border=\"1\" class=\"dataframe\">\n",
       "  <thead>\n",
       "    <tr style=\"text-align: right;\">\n",
       "      <th></th>\n",
       "      <th>Glucose</th>\n",
       "      <th>BloodPressure</th>\n",
       "      <th>SkinThickness</th>\n",
       "      <th>Insulin</th>\n",
       "      <th>BMI</th>\n",
       "      <th>DiabetesPedigreeFunction</th>\n",
       "      <th>Age</th>\n",
       "    </tr>\n",
       "  </thead>\n",
       "  <tbody>\n",
       "    <tr>\n",
       "      <th>0</th>\n",
       "      <td>148</td>\n",
       "      <td>72</td>\n",
       "      <td>35</td>\n",
       "      <td>0</td>\n",
       "      <td>33.6</td>\n",
       "      <td>0.627</td>\n",
       "      <td>50</td>\n",
       "    </tr>\n",
       "    <tr>\n",
       "      <th>1</th>\n",
       "      <td>85</td>\n",
       "      <td>66</td>\n",
       "      <td>29</td>\n",
       "      <td>0</td>\n",
       "      <td>26.6</td>\n",
       "      <td>0.351</td>\n",
       "      <td>31</td>\n",
       "    </tr>\n",
       "    <tr>\n",
       "      <th>2</th>\n",
       "      <td>183</td>\n",
       "      <td>64</td>\n",
       "      <td>0</td>\n",
       "      <td>0</td>\n",
       "      <td>23.3</td>\n",
       "      <td>0.672</td>\n",
       "      <td>32</td>\n",
       "    </tr>\n",
       "    <tr>\n",
       "      <th>3</th>\n",
       "      <td>89</td>\n",
       "      <td>66</td>\n",
       "      <td>23</td>\n",
       "      <td>94</td>\n",
       "      <td>28.1</td>\n",
       "      <td>0.167</td>\n",
       "      <td>21</td>\n",
       "    </tr>\n",
       "    <tr>\n",
       "      <th>4</th>\n",
       "      <td>137</td>\n",
       "      <td>40</td>\n",
       "      <td>35</td>\n",
       "      <td>168</td>\n",
       "      <td>43.1</td>\n",
       "      <td>2.288</td>\n",
       "      <td>33</td>\n",
       "    </tr>\n",
       "  </tbody>\n",
       "</table>\n",
       "</div>"
      ],
      "text/plain": [
       "   Glucose  BloodPressure  SkinThickness  Insulin   BMI  \\\n",
       "0      148             72             35        0  33.6   \n",
       "1       85             66             29        0  26.6   \n",
       "2      183             64              0        0  23.3   \n",
       "3       89             66             23       94  28.1   \n",
       "4      137             40             35      168  43.1   \n",
       "\n",
       "   DiabetesPedigreeFunction  Age  \n",
       "0                     0.627   50  \n",
       "1                     0.351   31  \n",
       "2                     0.672   32  \n",
       "3                     0.167   21  \n",
       "4                     2.288   33  "
      ]
     },
     "execution_count": 11,
     "metadata": {},
     "output_type": "execute_result"
    }
   ],
   "source": [
    "# let's visualise the continuous variables\n",
    "df[cont_vars].head()"
   ]
  },
  {
   "cell_type": "code",
   "execution_count": 12,
   "metadata": {
    "colab": {
     "base_uri": "https://localhost:8080/",
     "height": 1000
    },
    "colab_type": "code",
    "executionInfo": {
     "elapsed": 1748,
     "status": "ok",
     "timestamp": 1585298679068,
     "user": {
      "displayName": "Lorenzo Ostano",
      "photoUrl": "https://lh3.googleusercontent.com/a-/AOh14GgFg_mu4dJX96K7a9vTgwq0mMymhejwY6xYsf9DyA=s64",
      "userId": "12249114541243713917"
     },
     "user_tz": -60
    },
    "id": "gwcTr7AhItNb",
    "outputId": "56df9c05-f7b6-4e61-edf4-09247e57b762"
   },
   "outputs": [
    {
     "data": {
      "image/png": "[encoded data removed]",
      "text/plain": [
       "<Figure size 432x288 with 1 Axes>"
      ]
     },
     "metadata": {
      "needs_background": "light"
     },
     "output_type": "display_data"
    },
    {
     "data": {
      "image/png": "[encoded data removed]",
      "text/plain": [
       "<Figure size 432x288 with 1 Axes>"
      ]
     },
     "metadata": {
      "needs_background": "light"
     },
     "output_type": "display_data"
    },
    {
     "data": {
      "image/png": "[encoded data removed]",
      "text/plain": [
       "<Figure size 432x288 with 1 Axes>"
      ]
     },
     "metadata": {
      "needs_background": "light"
     },
     "output_type": "display_data"
    },
    {
     "data": {
      "image/png": "[encoded data removed]",
      "text/plain": [
       "<Figure size 432x288 with 1 Axes>"
      ]
     },
     "metadata": {
      "needs_background": "light"
     },
     "output_type": "display_data"
    },
    {
     "data": {
      "image/png": "[encoded data removed]",
      "text/plain": [
       "<Figure size 432x288 with 1 Axes>"
      ]
     },
     "metadata": {
      "needs_background": "light"
     },
     "output_type": "display_data"
    },
    {
     "data": {
      "image/png": "[encoded data removed]",
      "text/plain": [
       "<Figure size 432x288 with 1 Axes>"
      ]
     },
     "metadata": {
      "needs_background": "light"
     },
     "output_type": "display_data"
    },
    {
     "data": {
      "image/png": "[encoded data removed]",
      "text/plain": [
       "<Figure size 432x288 with 1 Axes>"
      ]
     },
     "metadata": {
      "needs_background": "light"
     },
     "output_type": "display_data"
    }
   ],
   "source": [
    "# Let's go ahead and analyse the distributions of these variables\n",
    "def analyse_continous(df, var):\n",
    "    df = df.copy()\n",
    "    df[var].hist(bins=20)\n",
    "    plt.ylabel('Number of patients')\n",
    "    plt.xlabel(var)\n",
    "    plt.title(var)\n",
    "    plt.show()\n",
    "    \n",
    "for var in cont_vars:\n",
    "    analyse_continous(df, var)"
   ]
  },
  {
   "cell_type": "code",
   "execution_count": 13,
   "metadata": {
    "colab": {
     "base_uri": "https://localhost:8080/",
     "height": 574
    },
    "colab_type": "code",
    "executionInfo": {
     "elapsed": 1746,
     "status": "ok",
     "timestamp": 1585298679516,
     "user": {
      "displayName": "Lorenzo Ostano",
      "photoUrl": "https://lh3.googleusercontent.com/a-/AOh14GgFg_mu4dJX96K7a9vTgwq0mMymhejwY6xYsf9DyA=s64",
      "userId": "12249114541243713917"
     },
     "user_tz": -60
    },
    "id": "5MJSJaM6IxlG",
    "outputId": "5b7bf830-1fec-4454-f559-2057773f8d05"
   },
   "outputs": [
    {
     "data": {
      "image/png": "[encoded data removed]",
      "text/plain": [
       "<Figure size 432x288 with 1 Axes>"
      ]
     },
     "metadata": {
      "needs_background": "light"
     },
     "output_type": "display_data"
    },
    {
     "data": {
      "image/png": "[encoded data removed]",
      "text/plain": [
       "<Figure size 432x288 with 1 Axes>"
      ]
     },
     "metadata": {
      "needs_background": "light"
     },
     "output_type": "display_data"
    }
   ],
   "source": [
    "# Let's go ahead and analyse the distributions of these variables\n",
    "def analyse_transformed_continous(df, var):\n",
    "    df = df.copy()\n",
    "    \n",
    "    # log does not take negative values, so let's be careful and skip those variables\n",
    "    if 0 in df[var].unique():\n",
    "        pass\n",
    "    else:\n",
    "        # log transform the variable\n",
    "        df[var] = np.log(df[var])\n",
    "        df[var].hist(bins=20)\n",
    "        plt.ylabel('Number of patients')\n",
    "        plt.xlabel(var)\n",
    "        plt.title(var)\n",
    "        plt.show()\n",
    "    \n",
    "for var in cont_vars:\n",
    "    analyse_transformed_continous(df, var)"
   ]
  },
  {
   "cell_type": "markdown",
   "metadata": {
    "colab_type": "text",
    "id": "rkkq6hoLI-qn"
   },
   "source": [
    "**Outliers**"
   ]
  },
  {
   "cell_type": "code",
   "execution_count": 14,
   "metadata": {
    "colab": {
     "base_uri": "https://localhost:8080/",
     "height": 1000
    },
    "colab_type": "code",
    "executionInfo": {
     "elapsed": 1766,
     "status": "ok",
     "timestamp": 1585298680694,
     "user": {
      "displayName": "Lorenzo Ostano",
      "photoUrl": "https://lh3.googleusercontent.com/a-/AOh14GgFg_mu4dJX96K7a9vTgwq0mMymhejwY6xYsf9DyA=s64",
      "userId": "12249114541243713917"
     },
     "user_tz": -60
    },
    "id": "DlLwpn8xI21o",
    "outputId": "2612e736-5a60-42fa-ae97-fc75d932f711"
   },
   "outputs": [
    {
     "data": {
      "image/png": "[encoded data removed]",
      "text/plain": [
       "<Figure size 432x288 with 1 Axes>"
      ]
     },
     "metadata": {
      "needs_background": "light"
     },
     "output_type": "display_data"
    },
    {
     "data": {
      "image/png": "[encoded data removed]",
      "text/plain": [
       "<Figure size 432x288 with 1 Axes>"
      ]
     },
     "metadata": {
      "needs_background": "light"
     },
     "output_type": "display_data"
    },
    {
     "data": {
      "image/png": "[encoded data removed]",
      "text/plain": [
       "<Figure size 432x288 with 1 Axes>"
      ]
     },
     "metadata": {
      "needs_background": "light"
     },
     "output_type": "display_data"
    },
    {
     "data": {
      "image/png": "[encoded data removed]",
      "text/plain": [
       "<Figure size 432x288 with 1 Axes>"
      ]
     },
     "metadata": {
      "needs_background": "light"
     },
     "output_type": "display_data"
    },
    {
     "data": {
      "image/png": "[encoded data removed]",
      "text/plain": [
       "<Figure size 432x288 with 1 Axes>"
      ]
     },
     "metadata": {
      "needs_background": "light"
     },
     "output_type": "display_data"
    },
    {
     "data": {
      "image/png": "[encoded data removed]",
      "text/plain": [
       "<Figure size 432x288 with 1 Axes>"
      ]
     },
     "metadata": {
      "needs_background": "light"
     },
     "output_type": "display_data"
    },
    {
     "data": {
      "image/png": "[encoded data removed]",
      "text/plain": [
       "<Figure size 432x288 with 1 Axes>"
      ]
     },
     "metadata": {
      "needs_background": "light"
     },
     "output_type": "display_data"
    }
   ],
   "source": [
    "# let's make boxplots to visualise outliers in the continuous variables \n",
    "\n",
    "def find_outliers(df, var):\n",
    "    df = df.copy()\n",
    "    \n",
    "    # # log does not take negative values, so let's be careful and skip those variables\n",
    "    # if 0 in df[var].unique():\n",
    "    #     pass\n",
    "    # else:\n",
    "        #df[var] = np.log(df[var])\n",
    "    df.boxplot(column=var)\n",
    "    plt.title(var)\n",
    "    plt.ylabel(var)\n",
    "    plt.show()\n",
    "    \n",
    "for var in cont_vars:\n",
    "    find_outliers(df, var)"
   ]
  },
  {
   "cell_type": "markdown",
   "metadata": {
    "colab_type": "text",
    "id": "KAMEuH68JD_9"
   },
   "source": []
  },
  {
   "cell_type": "markdown",
   "metadata": {
    "colab_type": "text",
    "id": "uNR_RmuOJEPD"
   },
   "source": [
    "# **Feature Engineering**"
   ]
  },
  {
   "cell_type": "code",
   "execution_count": 15,
   "metadata": {
    "colab": {},
    "colab_type": "code",
    "id": "Yvzjsv2RI9__"
   },
   "outputs": [],
   "source": [
    "def replace_zeros(df, var):\n",
    "    mean = df[var].mean()\n",
    "    df.loc[df[var]==0.0, var] = mean"
   ]
  },
  {
   "cell_type": "code",
   "execution_count": 16,
   "metadata": {
    "colab": {},
    "colab_type": "code",
    "id": "QdndW_b-JM4H"
   },
   "outputs": [],
   "source": [
    "for var in cont_vars:\n",
    "    replace_zeros(df, var)"
   ]
  },
  {
   "cell_type": "markdown",
   "metadata": {
    "colab_type": "text",
    "id": "y_QK5b9hJV8O"
   },
   "source": [
    "Log-transform the continuous variables except for age"
   ]
  },
  {
   "cell_type": "code",
   "execution_count": 17,
   "metadata": {
    "colab": {},
    "colab_type": "code",
    "id": "skcf-0aXJOew"
   },
   "outputs": [],
   "source": [
    "def log_transform(df):\n",
    "    X = df.copy()\n",
    "    for var in cont_vars:\n",
    "        if var not in [\"Age\"]:\n",
    "            X[var] = np.log(X[var])\n",
    "    return X"
   ]
  },
  {
   "cell_type": "code",
   "execution_count": 18,
   "metadata": {
    "colab": {},
    "colab_type": "code",
    "id": "9KT_kS7kJdGP"
   },
   "outputs": [],
   "source": [
    "data = log_transform(df)"
   ]
  },
  {
   "cell_type": "code",
   "execution_count": 19,
   "metadata": {
    "colab": {
     "base_uri": "https://localhost:8080/",
     "height": 204
    },
    "colab_type": "code",
    "executionInfo": {
     "elapsed": 520,
     "status": "ok",
     "timestamp": 1585298684024,
     "user": {
      "displayName": "Lorenzo Ostano",
      "photoUrl": "https://lh3.googleusercontent.com/a-/AOh14GgFg_mu4dJX96K7a9vTgwq0mMymhejwY6xYsf9DyA=s64",
      "userId": "12249114541243713917"
     },
     "user_tz": -60
    },
    "id": "QeQikVk7JfHK",
    "outputId": "7b7f2163-538b-4df4-8a8a-bba2324b3a3f"
   },
   "outputs": [
    {
     "data": {
      "text/html": [
       "<div>\n",
       "<style scoped>\n",
       "    .dataframe tbody tr th:only-of-type {\n",
       "        vertical-align: middle;\n",
       "    }\n",
       "\n",
       "    .dataframe tbody tr th {\n",
       "        vertical-align: top;\n",
       "    }\n",
       "\n",
       "    .dataframe thead th {\n",
       "        text-align: right;\n",
       "    }\n",
       "</style>\n",
       "<table border=\"1\" class=\"dataframe\">\n",
       "  <thead>\n",
       "    <tr style=\"text-align: right;\">\n",
       "      <th></th>\n",
       "      <th>Pregnancies</th>\n",
       "      <th>Glucose</th>\n",
       "      <th>BloodPressure</th>\n",
       "      <th>SkinThickness</th>\n",
       "      <th>Insulin</th>\n",
       "      <th>BMI</th>\n",
       "      <th>DiabetesPedigreeFunction</th>\n",
       "      <th>Age</th>\n",
       "      <th>Outcome</th>\n",
       "    </tr>\n",
       "  </thead>\n",
       "  <tbody>\n",
       "    <tr>\n",
       "      <th>0</th>\n",
       "      <td>6</td>\n",
       "      <td>4.997212</td>\n",
       "      <td>4.276666</td>\n",
       "      <td>3.555348</td>\n",
       "      <td>4.379517</td>\n",
       "      <td>3.514526</td>\n",
       "      <td>-0.466809</td>\n",
       "      <td>50.0</td>\n",
       "      <td>1</td>\n",
       "    </tr>\n",
       "    <tr>\n",
       "      <th>1</th>\n",
       "      <td>1</td>\n",
       "      <td>4.442651</td>\n",
       "      <td>4.189655</td>\n",
       "      <td>3.367296</td>\n",
       "      <td>4.379517</td>\n",
       "      <td>3.280911</td>\n",
       "      <td>-1.046969</td>\n",
       "      <td>31.0</td>\n",
       "      <td>0</td>\n",
       "    </tr>\n",
       "    <tr>\n",
       "      <th>2</th>\n",
       "      <td>8</td>\n",
       "      <td>5.209486</td>\n",
       "      <td>4.158883</td>\n",
       "      <td>3.022202</td>\n",
       "      <td>4.379517</td>\n",
       "      <td>3.148453</td>\n",
       "      <td>-0.397497</td>\n",
       "      <td>32.0</td>\n",
       "      <td>1</td>\n",
       "    </tr>\n",
       "    <tr>\n",
       "      <th>3</th>\n",
       "      <td>1</td>\n",
       "      <td>4.488636</td>\n",
       "      <td>4.189655</td>\n",
       "      <td>3.135494</td>\n",
       "      <td>4.543295</td>\n",
       "      <td>3.335770</td>\n",
       "      <td>-1.789761</td>\n",
       "      <td>21.0</td>\n",
       "      <td>0</td>\n",
       "    </tr>\n",
       "    <tr>\n",
       "      <th>4</th>\n",
       "      <td>0</td>\n",
       "      <td>4.919981</td>\n",
       "      <td>3.688879</td>\n",
       "      <td>3.555348</td>\n",
       "      <td>5.123964</td>\n",
       "      <td>3.763523</td>\n",
       "      <td>0.827678</td>\n",
       "      <td>33.0</td>\n",
       "      <td>1</td>\n",
       "    </tr>\n",
       "  </tbody>\n",
       "</table>\n",
       "</div>"
      ],
      "text/plain": [
       "   Pregnancies   Glucose  BloodPressure  SkinThickness   Insulin       BMI  \\\n",
       "0            6  4.997212       4.276666       3.555348  4.379517  3.514526   \n",
       "1            1  4.442651       4.189655       3.367296  4.379517  3.280911   \n",
       "2            8  5.209486       4.158883       3.022202  4.379517  3.148453   \n",
       "3            1  4.488636       4.189655       3.135494  4.543295  3.335770   \n",
       "4            0  4.919981       3.688879       3.555348  5.123964  3.763523   \n",
       "\n",
       "   DiabetesPedigreeFunction   Age  Outcome  \n",
       "0                 -0.466809  50.0        1  \n",
       "1                 -1.046969  31.0        0  \n",
       "2                 -0.397497  32.0        1  \n",
       "3                 -1.789761  21.0        0  \n",
       "4                  0.827678  33.0        1  "
      ]
     },
     "execution_count": 19,
     "metadata": {},
     "output_type": "execute_result"
    }
   ],
   "source": [
    "data.head()"
   ]
  },
  {
   "cell_type": "markdown",
   "metadata": {
    "colab_type": "text",
    "id": "gLu0F9ULJlls"
   },
   "source": [
    "**Feature Scaling**"
   ]
  },
  {
   "cell_type": "code",
   "execution_count": 20,
   "metadata": {
    "colab": {},
    "colab_type": "code",
    "id": "Tb260gpwJjl9"
   },
   "outputs": [],
   "source": [
    "from sklearn.preprocessing import MinMaxScaler"
   ]
  },
  {
   "cell_type": "code",
   "execution_count": 21,
   "metadata": {
    "colab": {
     "base_uri": "https://localhost:8080/",
     "height": 34
    },
    "colab_type": "code",
    "executionInfo": {
     "elapsed": 1556,
     "status": "ok",
     "timestamp": 1585298687245,
     "user": {
      "displayName": "Lorenzo Ostano",
      "photoUrl": "https://lh3.googleusercontent.com/a-/AOh14GgFg_mu4dJX96K7a9vTgwq0mMymhejwY6xYsf9DyA=s64",
      "userId": "12249114541243713917"
     },
     "user_tz": -60
    },
    "id": "BJEybfSBJqf-",
    "outputId": "69a1837b-5b25-461f-b532-270d0292bddf"
   },
   "outputs": [
    {
     "data": {
      "text/plain": [
       "MinMaxScaler()"
      ]
     },
     "execution_count": 21,
     "metadata": {},
     "output_type": "execute_result"
    }
   ],
   "source": [
    "# fit scaler\n",
    "scaler = MinMaxScaler() # create an instance\n",
    "scaler.fit(data[cont_vars+discrete_vars])"
   ]
  },
  {
   "cell_type": "code",
   "execution_count": 22,
   "metadata": {
    "colab": {},
    "colab_type": "code",
    "id": "xFsKkU8AJsfv"
   },
   "outputs": [],
   "source": [
    "data = pd.concat([data['Outcome'].reset_index(drop=True), \n",
    "                 pd.DataFrame(scaler.transform(data[cont_vars+discrete_vars]), columns=cont_vars+discrete_vars)], axis=1)"
   ]
  },
  {
   "cell_type": "code",
   "execution_count": 23,
   "metadata": {
    "colab": {
     "base_uri": "https://localhost:8080/",
     "height": 669
    },
    "colab_type": "code",
    "executionInfo": {
     "elapsed": 776,
     "status": "ok",
     "timestamp": 1585298688115,
     "user": {
      "displayName": "Lorenzo Ostano",
      "photoUrl": "https://lh3.googleusercontent.com/a-/AOh14GgFg_mu4dJX96K7a9vTgwq0mMymhejwY6xYsf9DyA=s64",
      "userId": "12249114541243713917"
     },
     "user_tz": -60
    },
    "id": "17NezEGEJu1C",
    "outputId": "3a875f7a-90e0-4e27-c7e3-5bb3884e4301"
   },
   "outputs": [
    {
     "data": {
      "text/html": [
       "<div>\n",
       "<style scoped>\n",
       "    .dataframe tbody tr th:only-of-type {\n",
       "        vertical-align: middle;\n",
       "    }\n",
       "\n",
       "    .dataframe tbody tr th {\n",
       "        vertical-align: top;\n",
       "    }\n",
       "\n",
       "    .dataframe thead th {\n",
       "        text-align: right;\n",
       "    }\n",
       "</style>\n",
       "<table border=\"1\" class=\"dataframe\">\n",
       "  <thead>\n",
       "    <tr style=\"text-align: right;\">\n",
       "      <th></th>\n",
       "      <th>Outcome</th>\n",
       "      <th>Glucose</th>\n",
       "      <th>BloodPressure</th>\n",
       "      <th>SkinThickness</th>\n",
       "      <th>Insulin</th>\n",
       "      <th>BMI</th>\n",
       "      <th>DiabetesPedigreeFunction</th>\n",
       "      <th>Age</th>\n",
       "      <th>Pregnancies</th>\n",
       "    </tr>\n",
       "  </thead>\n",
       "  <tbody>\n",
       "    <tr>\n",
       "      <th>0</th>\n",
       "      <td>1</td>\n",
       "      <td>0.803797</td>\n",
       "      <td>0.675667</td>\n",
       "      <td>0.607516</td>\n",
       "      <td>0.424351</td>\n",
       "      <td>0.469897</td>\n",
       "      <td>0.606798</td>\n",
       "      <td>0.483333</td>\n",
       "      <td>0.352941</td>\n",
       "    </tr>\n",
       "    <tr>\n",
       "      <th>1</th>\n",
       "      <td>0</td>\n",
       "      <td>0.436323</td>\n",
       "      <td>0.622153</td>\n",
       "      <td>0.536532</td>\n",
       "      <td>0.424351</td>\n",
       "      <td>0.290850</td>\n",
       "      <td>0.437892</td>\n",
       "      <td>0.166667</td>\n",
       "      <td>0.058824</td>\n",
       "    </tr>\n",
       "    <tr>\n",
       "      <th>2</th>\n",
       "      <td>1</td>\n",
       "      <td>0.944458</td>\n",
       "      <td>0.603228</td>\n",
       "      <td>0.406269</td>\n",
       "      <td>0.424351</td>\n",
       "      <td>0.189331</td>\n",
       "      <td>0.626977</td>\n",
       "      <td>0.183333</td>\n",
       "      <td>0.470588</td>\n",
       "    </tr>\n",
       "    <tr>\n",
       "      <th>3</th>\n",
       "      <td>0</td>\n",
       "      <td>0.466795</td>\n",
       "      <td>0.622153</td>\n",
       "      <td>0.449034</td>\n",
       "      <td>0.464283</td>\n",
       "      <td>0.332894</td>\n",
       "      <td>0.221638</td>\n",
       "      <td>0.000000</td>\n",
       "      <td>0.058824</td>\n",
       "    </tr>\n",
       "    <tr>\n",
       "      <th>4</th>\n",
       "      <td>1</td>\n",
       "      <td>0.752621</td>\n",
       "      <td>0.314167</td>\n",
       "      <td>0.607516</td>\n",
       "      <td>0.605859</td>\n",
       "      <td>0.660734</td>\n",
       "      <td>0.983670</td>\n",
       "      <td>0.200000</td>\n",
       "      <td>0.000000</td>\n",
       "    </tr>\n",
       "    <tr>\n",
       "      <th>5</th>\n",
       "      <td>0</td>\n",
       "      <td>0.642364</td>\n",
       "      <td>0.692518</td>\n",
       "      <td>0.406269</td>\n",
       "      <td>0.424351</td>\n",
       "      <td>0.261481</td>\n",
       "      <td>0.275589</td>\n",
       "      <td>0.150000</td>\n",
       "      <td>0.294118</td>\n",
       "    </tr>\n",
       "    <tr>\n",
       "      <th>6</th>\n",
       "      <td>1</td>\n",
       "      <td>0.379374</td>\n",
       "      <td>0.451405</td>\n",
       "      <td>0.573690</td>\n",
       "      <td>0.448201</td>\n",
       "      <td>0.408171</td>\n",
       "      <td>0.336763</td>\n",
       "      <td>0.083333</td>\n",
       "      <td>0.176471</td>\n",
       "    </tr>\n",
       "    <tr>\n",
       "      <th>7</th>\n",
       "      <td>0</td>\n",
       "      <td>0.636626</td>\n",
       "      <td>0.650431</td>\n",
       "      <td>0.406269</td>\n",
       "      <td>0.424351</td>\n",
       "      <td>0.507726</td>\n",
       "      <td>0.157543</td>\n",
       "      <td>0.133333</td>\n",
       "      <td>0.588235</td>\n",
       "    </tr>\n",
       "    <tr>\n",
       "      <th>8</th>\n",
       "      <td>1</td>\n",
       "      <td>0.993307</td>\n",
       "      <td>0.658341</td>\n",
       "      <td>0.702380</td>\n",
       "      <td>0.891890</td>\n",
       "      <td>0.395708</td>\n",
       "      <td>0.205509</td>\n",
       "      <td>0.533333</td>\n",
       "      <td>0.117647</td>\n",
       "    </tr>\n",
       "    <tr>\n",
       "      <th>9</th>\n",
       "      <td>1</td>\n",
       "      <td>0.691878</td>\n",
       "      <td>0.852597</td>\n",
       "      <td>0.406269</td>\n",
       "      <td>0.424351</td>\n",
       "      <td>0.432326</td>\n",
       "      <td>0.317347</td>\n",
       "      <td>0.550000</td>\n",
       "      <td>0.470588</td>\n",
       "    </tr>\n",
       "    <tr>\n",
       "      <th>10</th>\n",
       "      <td>0</td>\n",
       "      <td>0.607171</td>\n",
       "      <td>0.826422</td>\n",
       "      <td>0.406269</td>\n",
       "      <td>0.424351</td>\n",
       "      <td>0.556103</td>\n",
       "      <td>0.260732</td>\n",
       "      <td>0.150000</td>\n",
       "      <td>0.235294</td>\n",
       "    </tr>\n",
       "    <tr>\n",
       "      <th>11</th>\n",
       "      <td>1</td>\n",
       "      <td>0.887788</td>\n",
       "      <td>0.692518</td>\n",
       "      <td>0.406269</td>\n",
       "      <td>0.424351</td>\n",
       "      <td>0.564213</td>\n",
       "      <td>0.561687</td>\n",
       "      <td>0.216667</td>\n",
       "      <td>0.588235</td>\n",
       "    </tr>\n",
       "    <tr>\n",
       "      <th>12</th>\n",
       "      <td>0</td>\n",
       "      <td>0.762224</td>\n",
       "      <td>0.740466</td>\n",
       "      <td>0.406269</td>\n",
       "      <td>0.424351</td>\n",
       "      <td>0.305122</td>\n",
       "      <td>0.849066</td>\n",
       "      <td>0.600000</td>\n",
       "      <td>0.588235</td>\n",
       "    </tr>\n",
       "    <tr>\n",
       "      <th>13</th>\n",
       "      <td>1</td>\n",
       "      <td>0.965836</td>\n",
       "      <td>0.563536</td>\n",
       "      <td>0.449034</td>\n",
       "      <td>1.000000</td>\n",
       "      <td>0.385590</td>\n",
       "      <td>0.474478</td>\n",
       "      <td>0.633333</td>\n",
       "      <td>0.058824</td>\n",
       "    </tr>\n",
       "    <tr>\n",
       "      <th>14</th>\n",
       "      <td>1</td>\n",
       "      <td>0.879852</td>\n",
       "      <td>0.675667</td>\n",
       "      <td>0.376916</td>\n",
       "      <td>0.615812</td>\n",
       "      <td>0.267446</td>\n",
       "      <td>0.587606</td>\n",
       "      <td>0.500000</td>\n",
       "      <td>0.294118</td>\n",
       "    </tr>\n",
       "    <tr>\n",
       "      <th>15</th>\n",
       "      <td>1</td>\n",
       "      <td>0.544015</td>\n",
       "      <td>0.650431</td>\n",
       "      <td>0.406269</td>\n",
       "      <td>0.424351</td>\n",
       "      <td>0.383040</td>\n",
       "      <td>0.531434</td>\n",
       "      <td>0.183333</td>\n",
       "      <td>0.411765</td>\n",
       "    </tr>\n",
       "    <tr>\n",
       "      <th>16</th>\n",
       "      <td>1</td>\n",
       "      <td>0.653691</td>\n",
       "      <td>0.770472</td>\n",
       "      <td>0.718795</td>\n",
       "      <td>0.682445</td>\n",
       "      <td>0.707303</td>\n",
       "      <td>0.569180</td>\n",
       "      <td>0.166667</td>\n",
       "      <td>0.000000</td>\n",
       "    </tr>\n",
       "    <tr>\n",
       "      <th>17</th>\n",
       "      <td>1</td>\n",
       "      <td>0.588848</td>\n",
       "      <td>0.692518</td>\n",
       "      <td>0.406269</td>\n",
       "      <td>0.424351</td>\n",
       "      <td>0.372752</td>\n",
       "      <td>0.343723</td>\n",
       "      <td>0.166667</td>\n",
       "      <td>0.411765</td>\n",
       "    </tr>\n",
       "    <tr>\n",
       "      <th>18</th>\n",
       "      <td>0</td>\n",
       "      <td>0.563601</td>\n",
       "      <td>0.137237</td>\n",
       "      <td>0.638559</td>\n",
       "      <td>0.433939</td>\n",
       "      <td>0.664283</td>\n",
       "      <td>0.248275</td>\n",
       "      <td>0.200000</td>\n",
       "      <td>0.058824</td>\n",
       "    </tr>\n",
       "    <tr>\n",
       "      <th>19</th>\n",
       "      <td>1</td>\n",
       "      <td>0.636626</td>\n",
       "      <td>0.658341</td>\n",
       "      <td>0.549329</td>\n",
       "      <td>0.469416</td>\n",
       "      <td>0.492375</td>\n",
       "      <td>0.557317</td>\n",
       "      <td>0.183333</td>\n",
       "      <td>0.058824</td>\n",
       "    </tr>\n",
       "  </tbody>\n",
       "</table>\n",
       "</div>"
      ],
      "text/plain": [
       "    Outcome   Glucose  BloodPressure  SkinThickness   Insulin       BMI  \\\n",
       "0         1  0.803797       0.675667       0.607516  0.424351  0.469897   \n",
       "1         0  0.436323       0.622153       0.536532  0.424351  0.290850   \n",
       "2         1  0.944458       0.603228       0.406269  0.424351  0.189331   \n",
       "3         0  0.466795       0.622153       0.449034  0.464283  0.332894   \n",
       "4         1  0.752621       0.314167       0.607516  0.605859  0.660734   \n",
       "5         0  0.642364       0.692518       0.406269  0.424351  0.261481   \n",
       "6         1  0.379374       0.451405       0.573690  0.448201  0.408171   \n",
       "7         0  0.636626       0.650431       0.406269  0.424351  0.507726   \n",
       "8         1  0.993307       0.658341       0.702380  0.891890  0.395708   \n",
       "9         1  0.691878       0.852597       0.406269  0.424351  0.432326   \n",
       "10        0  0.607171       0.826422       0.406269  0.424351  0.556103   \n",
       "11        1  0.887788       0.692518       0.406269  0.424351  0.564213   \n",
       "12        0  0.762224       0.740466       0.406269  0.424351  0.305122   \n",
       "13        1  0.965836       0.563536       0.449034  1.000000  0.385590   \n",
       "14        1  0.879852       0.675667       0.376916  0.615812  0.267446   \n",
       "15        1  0.544015       0.650431       0.406269  0.424351  0.383040   \n",
       "16        1  0.653691       0.770472       0.718795  0.682445  0.707303   \n",
       "17        1  0.588848       0.692518       0.406269  0.424351  0.372752   \n",
       "18        0  0.563601       0.137237       0.638559  0.433939  0.664283   \n",
       "19        1  0.636626       0.658341       0.549329  0.469416  0.492375   \n",
       "\n",
       "    DiabetesPedigreeFunction       Age  Pregnancies  \n",
       "0                   0.606798  0.483333     0.352941  \n",
       "1                   0.437892  0.166667     0.058824  \n",
       "2                   0.626977  0.183333     0.470588  \n",
       "3                   0.221638  0.000000     0.058824  \n",
       "4                   0.983670  0.200000     0.000000  \n",
       "5                   0.275589  0.150000     0.294118  \n",
       "6                   0.336763  0.083333     0.176471  \n",
       "7                   0.157543  0.133333     0.588235  \n",
       "8                   0.205509  0.533333     0.117647  \n",
       "9                   0.317347  0.550000     0.470588  \n",
       "10                  0.260732  0.150000     0.235294  \n",
       "11                  0.561687  0.216667     0.588235  \n",
       "12                  0.849066  0.600000     0.588235  \n",
       "13                  0.474478  0.633333     0.058824  \n",
       "14                  0.587606  0.500000     0.294118  \n",
       "15                  0.531434  0.183333     0.411765  \n",
       "16                  0.569180  0.166667     0.000000  \n",
       "17                  0.343723  0.166667     0.411765  \n",
       "18                  0.248275  0.200000     0.058824  \n",
       "19                  0.557317  0.183333     0.058824  "
      ]
     },
     "execution_count": 23,
     "metadata": {},
     "output_type": "execute_result"
    }
   ],
   "source": [
    "data.head(20)"
   ]
  },
  {
   "cell_type": "code",
   "execution_count": 24,
   "metadata": {
    "colab": {
     "base_uri": "https://localhost:8080/",
     "height": 68
    },
    "colab_type": "code",
    "executionInfo": {
     "elapsed": 786,
     "status": "ok",
     "timestamp": 1585298689095,
     "user": {
      "displayName": "Lorenzo Ostano",
      "photoUrl": "https://lh3.googleusercontent.com/a-/AOh14GgFg_mu4dJX96K7a9vTgwq0mMymhejwY6xYsf9DyA=s64",
      "userId": "12249114541243713917"
     },
     "user_tz": -60
    },
    "id": "mSQ3uHFOJw_8",
    "outputId": "d5f95f1b-8e01-496b-8def-180bac60204f"
   },
   "outputs": [
    {
     "data": {
      "text/plain": [
       "0    500\n",
       "1    268\n",
       "Name: Outcome, dtype: int64"
      ]
     },
     "execution_count": 24,
     "metadata": {},
     "output_type": "execute_result"
    }
   ],
   "source": [
    "data['Outcome'].value_counts()"
   ]
  },
  {
   "cell_type": "code",
   "execution_count": 25,
   "metadata": {
    "colab": {},
    "colab_type": "code",
    "id": "qHhBXHP6J2fL"
   },
   "outputs": [],
   "source": [
    "import seaborn as sns"
   ]
  },
  {
   "cell_type": "code",
   "execution_count": 26,
   "metadata": {
    "colab": {
     "base_uri": "https://localhost:8080/",
     "height": 279
    },
    "colab_type": "code",
    "executionInfo": {
     "elapsed": 684,
     "status": "ok",
     "timestamp": 1585298690456,
     "user": {
      "displayName": "Lorenzo Ostano",
      "photoUrl": "https://lh3.googleusercontent.com/a-/AOh14GgFg_mu4dJX96K7a9vTgwq0mMymhejwY6xYsf9DyA=s64",
      "userId": "12249114541243713917"
     },
     "user_tz": -60
    },
    "id": "FUp5eUT6J4xS",
    "outputId": "c30db049-cf0a-4155-acfc-d8b8e7367ef0"
   },
   "outputs": [
    {
     "data": {
      "image/png": "[encoded data removed]",
      "text/plain": [
       "<Figure size 432x288 with 1 Axes>"
      ]
     },
     "metadata": {
      "needs_background": "light"
     },
     "output_type": "display_data"
    }
   ],
   "source": [
    "sns.countplot(x='Outcome',data=data,palette='hls')\n",
    "plt.show()"
   ]
  },
  {
   "cell_type": "code",
   "execution_count": 27,
   "metadata": {
    "colab": {
     "base_uri": "https://localhost:8080/",
     "height": 51
    },
    "colab_type": "code",
    "executionInfo": {
     "elapsed": 762,
     "status": "ok",
     "timestamp": 1585298691445,
     "user": {
      "displayName": "Lorenzo Ostano",
      "photoUrl": "https://lh3.googleusercontent.com/a-/AOh14GgFg_mu4dJX96K7a9vTgwq0mMymhejwY6xYsf9DyA=s64",
      "userId": "12249114541243713917"
     },
     "user_tz": -60
    },
    "id": "7E96BJX6J68Y",
    "outputId": "c121a4d1-f8ce-4aa7-a05b-016c8770cc29"
   },
   "outputs": [
    {
     "name": "stdout",
     "output_type": "stream",
     "text": [
      "percentage of no diabetes is 65.10416666666666\n",
      "percentage of diabetes 34.89583333333333\n"
     ]
    }
   ],
   "source": [
    "count_no_sub = len(data[data['Outcome']==0])\n",
    "count_sub = len(data[data['Outcome']==1])\n",
    "pct_of_no_sub = count_no_sub/(count_no_sub+count_sub)\n",
    "print(\"percentage of no diabetes is\", pct_of_no_sub*100)\n",
    "pct_of_sub = count_sub/(count_no_sub+count_sub)\n",
    "print(\"percentage of diabetes\", pct_of_sub*100)"
   ]
  },
  {
   "cell_type": "markdown",
   "metadata": {
    "colab_type": "text",
    "id": "LG16kb8koiZW"
   },
   "source": [
    "**CLASS WEIGHTS**"
   ]
  },
  {
   "cell_type": "code",
   "execution_count": 28,
   "metadata": {
    "colab": {},
    "colab_type": "code",
    "id": "XuR-PJgdolTy"
   },
   "outputs": [],
   "source": [
    "from sklearn.utils import class_weight"
   ]
  },
  {
   "cell_type": "code",
   "execution_count": 29,
   "metadata": {
    "colab": {},
    "colab_type": "code",
    "id": "LMsRhdbbJ-Sw"
   },
   "outputs": [],
   "source": [
    "X = data.drop('Outcome', axis=1).values\n",
    "y = data.Outcome.values"
   ]
  },
  {
   "cell_type": "code",
   "execution_count": 30,
   "metadata": {
    "colab": {},
    "colab_type": "code",
    "id": "fySSorFao597"
   },
   "outputs": [
    {
     "name": "stderr",
     "output_type": "stream",
     "text": [
      "c:\\users\\lorenzo.ostano\\appdata\\local\\programs\\python\\python38\\lib\\site-packages\\sklearn\\utils\\validation.py:68: FutureWarning: Pass classes=[0 1], y=[1 0 1 0 1 0 1 0 1 1 0 1 0 1 1 1 1 1 0 1 0 0 1 1 1 1 1 0 0 0 0 1 0 0 0 0 0\n",
      " 1 1 1 0 0 0 1 0 1 0 0 1 0 0 0 0 1 0 0 1 0 0 0 0 1 0 0 1 0 1 0 0 0 1 0 1 0\n",
      " 0 0 0 0 1 0 0 0 0 0 1 0 0 0 1 0 0 0 0 1 0 0 0 0 0 1 1 0 0 0 0 0 0 0 0 1 1\n",
      " 1 0 0 1 1 1 0 0 0 1 0 0 0 1 1 0 0 1 1 1 1 1 0 0 0 0 0 0 0 0 0 0 1 0 0 0 0\n",
      " 0 0 0 0 1 0 1 1 0 0 0 1 0 0 0 0 1 1 0 0 0 0 1 1 0 0 0 1 0 1 0 1 0 0 0 0 0\n",
      " 1 1 1 1 1 0 0 1 1 0 1 0 1 1 1 0 0 0 0 0 0 1 1 0 1 0 0 0 1 1 1 1 0 1 1 1 1\n",
      " 0 0 0 0 0 1 0 0 1 1 0 0 0 1 1 1 1 0 0 0 1 1 0 1 0 0 0 0 0 0 0 0 1 1 0 0 0\n",
      " 1 0 1 0 0 1 0 1 0 0 1 1 0 0 0 0 0 1 0 0 0 1 0 0 1 1 0 0 1 0 0 0 1 1 1 0 0\n",
      " 1 0 1 0 1 1 0 1 0 0 1 0 1 1 0 0 1 0 1 0 0 1 0 1 0 1 1 1 0 0 1 0 1 0 0 0 1\n",
      " 0 0 0 0 1 1 1 0 0 0 0 0 0 0 0 0 1 0 0 0 0 0 1 1 1 0 1 1 0 0 1 0 0 1 0 0 1\n",
      " 1 0 0 0 0 1 0 0 1 0 0 0 0 0 0 0 1 1 1 0 0 1 0 0 1 0 0 1 0 1 1 0 1 0 1 0 1\n",
      " 0 1 1 0 0 0 0 1 1 0 1 0 1 0 0 0 0 1 1 0 1 0 1 0 0 0 0 0 1 0 0 0 0 1 0 0 1\n",
      " 1 1 0 0 1 0 0 1 0 0 0 1 0 0 1 0 0 0 0 0 0 0 0 0 1 0 0 0 0 0 0 0 1 0 0 0 1\n",
      " 0 0 0 1 1 0 0 0 0 0 0 0 1 0 0 0 0 1 0 0 0 1 0 0 0 1 0 0 0 1 0 0 0 0 1 1 0\n",
      " 0 0 0 0 0 1 0 0 0 0 0 0 0 0 0 0 0 1 0 0 0 1 1 1 1 0 0 1 1 0 0 0 0 0 0 0 0\n",
      " 0 0 0 0 0 1 1 0 0 0 0 0 0 0 1 0 0 0 0 0 0 0 1 0 1 1 0 0 0 1 0 1 0 1 0 1 0\n",
      " 1 0 0 1 0 0 1 0 0 0 0 1 1 0 1 0 0 0 0 1 1 0 1 0 0 0 1 1 0 0 0 0 0 0 0 0 0\n",
      " 0 1 0 0 0 0 1 0 0 1 0 0 0 1 0 0 0 1 1 1 0 0 0 0 0 0 1 0 0 0 1 0 1 1 1 1 0\n",
      " 1 1 0 0 0 0 0 0 0 1 1 0 1 0 0 1 0 1 0 0 0 0 0 1 0 1 0 1 0 1 1 0 0 0 0 1 1\n",
      " 0 0 0 1 0 1 1 0 0 1 0 0 1 1 0 0 1 0 0 1 0 0 0 0 0 0 0 1 1 1 0 0 0 0 0 0 1\n",
      " 1 0 0 1 0 0 1 0 1 1 1 0 0 1 1 1 0 1 0 1 0 1 0 0 0 0 1 0] as keyword args. From version 0.25 passing these as positional arguments will result in an error\n",
      "  warnings.warn(\"Pass {} as keyword args. From version 0.25 \"\n"
     ]
    }
   ],
   "source": [
    "class_weights = class_weight.compute_class_weight('balanced', np.array([0,1]), y)"
   ]
  },
  {
   "cell_type": "code",
   "execution_count": 31,
   "metadata": {
    "colab": {
     "base_uri": "https://localhost:8080/",
     "height": 34
    },
    "colab_type": "code",
    "executionInfo": {
     "elapsed": 1092,
     "status": "ok",
     "timestamp": 1585298695518,
     "user": {
      "displayName": "Lorenzo Ostano",
      "photoUrl": "https://lh3.googleusercontent.com/a-/AOh14GgFg_mu4dJX96K7a9vTgwq0mMymhejwY6xYsf9DyA=s64",
      "userId": "12249114541243713917"
     },
     "user_tz": -60
    },
    "id": "KLEHLXbZpr5S",
    "outputId": "4501d06a-5856-452b-9923-6d8e1e020459"
   },
   "outputs": [
    {
     "data": {
      "text/plain": [
       "array([0.768     , 1.43283582])"
      ]
     },
     "execution_count": 31,
     "metadata": {},
     "output_type": "execute_result"
    }
   ],
   "source": [
    "class_weights"
   ]
  },
  {
   "cell_type": "code",
   "execution_count": 32,
   "metadata": {
    "colab": {
     "base_uri": "https://localhost:8080/",
     "height": 34
    },
    "colab_type": "code",
    "executionInfo": {
     "elapsed": 846,
     "status": "ok",
     "timestamp": 1585298695858,
     "user": {
      "displayName": "Lorenzo Ostano",
      "photoUrl": "https://lh3.googleusercontent.com/a-/AOh14GgFg_mu4dJX96K7a9vTgwq0mMymhejwY6xYsf9DyA=s64",
      "userId": "12249114541243713917"
     },
     "user_tz": -60
    },
    "id": "THFFGLt5p1dW",
    "outputId": "a74e5c73-72f5-4b88-b36f-53373f8b271b"
   },
   "outputs": [
    {
     "data": {
      "text/plain": [
       "{0: 0.768, 1: 1.4328358208955223}"
      ]
     },
     "execution_count": 32,
     "metadata": {},
     "output_type": "execute_result"
    }
   ],
   "source": [
    "dict(enumerate(class_weights))"
   ]
  },
  {
   "cell_type": "markdown",
   "metadata": {
    "colab_type": "text",
    "id": "Ox9XY0lzEArd"
   },
   "source": [
    "**SMOTE Oversampling**"
   ]
  },
  {
   "cell_type": "code",
   "execution_count": 33,
   "metadata": {
    "colab": {
     "base_uri": "https://localhost:8080/",
     "height": 105
    },
    "colab_type": "code",
    "executionInfo": {
     "elapsed": 1146,
     "status": "ok",
     "timestamp": 1585298697393,
     "user": {
      "displayName": "Lorenzo Ostano",
      "photoUrl": "https://lh3.googleusercontent.com/a-/AOh14GgFg_mu4dJX96K7a9vTgwq0mMymhejwY6xYsf9DyA=s64",
      "userId": "12249114541243713917"
     },
     "user_tz": -60
    },
    "id": "kPx5a9TwED2i",
    "outputId": "1d530971-528c-418a-d23b-59be1b49fee5"
   },
   "outputs": [],
   "source": [
    "from imblearn.over_sampling import SMOTE"
   ]
  },
  {
   "cell_type": "code",
   "execution_count": 34,
   "metadata": {
    "colab": {},
    "colab_type": "code",
    "id": "1QVbGOngGRAR"
   },
   "outputs": [],
   "source": [
    "X = data.drop('Outcome', axis=1)\n",
    "y = data[\"Outcome\"]"
   ]
  },
  {
   "cell_type": "code",
   "execution_count": 35,
   "metadata": {},
   "outputs": [],
   "source": [
    "X_array = X.values\n",
    "y_array = y.values"
   ]
  },
  {
   "cell_type": "code",
   "execution_count": 36,
   "metadata": {
    "colab": {
     "base_uri": "https://localhost:8080/",
     "height": 71
    },
    "colab_type": "code",
    "executionInfo": {
     "elapsed": 711,
     "status": "ok",
     "timestamp": 1585298698200,
     "user": {
      "displayName": "Lorenzo Ostano",
      "photoUrl": "https://lh3.googleusercontent.com/a-/AOh14GgFg_mu4dJX96K7a9vTgwq0mMymhejwY6xYsf9DyA=s64",
      "userId": "12249114541243713917"
     },
     "user_tz": -60
    },
    "id": "9kLO_LXUF_6T",
    "outputId": "6e754a01-cb8f-4c78-bc42-007df3d08245"
   },
   "outputs": [],
   "source": [
    "osa = SMOTE(random_state=0)\n",
    "os_data_X,os_data_y=osa.fit_sample(X_array, y_array)"
   ]
  },
  {
   "cell_type": "code",
   "execution_count": 37,
   "metadata": {},
   "outputs": [
    {
     "data": {
      "text/plain": [
       "numpy.ndarray"
      ]
     },
     "execution_count": 37,
     "metadata": {},
     "output_type": "execute_result"
    }
   ],
   "source": [
    "type(os_data_y)"
   ]
  },
  {
   "cell_type": "code",
   "execution_count": 38,
   "metadata": {
    "colab": {},
    "colab_type": "code",
    "id": "t5pMYvwuGImw"
   },
   "outputs": [],
   "source": [
    "os_data_X = pd.DataFrame(data=os_data_X, columns=X.columns )\n",
    "os_data_y= pd.DataFrame(data=os_data_y, columns=['y'])"
   ]
  },
  {
   "cell_type": "code",
   "execution_count": 39,
   "metadata": {
    "colab": {
     "base_uri": "https://localhost:8080/",
     "height": 102
    },
    "colab_type": "code",
    "executionInfo": {
     "elapsed": 549,
     "status": "ok",
     "timestamp": 1585298699497,
     "user": {
      "displayName": "Lorenzo Ostano",
      "photoUrl": "https://lh3.googleusercontent.com/a-/AOh14GgFg_mu4dJX96K7a9vTgwq0mMymhejwY6xYsf9DyA=s64",
      "userId": "12249114541243713917"
     },
     "user_tz": -60
    },
    "id": "INcVdWn1GZSF",
    "outputId": "681afd76-6f0a-4abc-e8eb-9186f4d66152"
   },
   "outputs": [
    {
     "name": "stdout",
     "output_type": "stream",
     "text": [
      "length of oversampled data is  1000\n",
      "Number of no diabetes in oversampled data 500\n",
      "Number of diabetes 500\n",
      "Proportion of no diabetes data in oversampled data is  0.5\n",
      "Proportion of diabetes data in oversampled data is  0.5\n"
     ]
    }
   ],
   "source": [
    "# we can Check the numbers of our data\n",
    "print(\"length of oversampled data is \",len(os_data_X))\n",
    "print(\"Number of no diabetes in oversampled data\",len(os_data_y[os_data_y['y']==0]))\n",
    "print(\"Number of diabetes\",len(os_data_y[os_data_y['y']==1]))\n",
    "print(\"Proportion of no diabetes data in oversampled data is \",len(os_data_y[os_data_y['y']==0])/len(os_data_X))\n",
    "print(\"Proportion of diabetes data in oversampled data is \",len(os_data_y[os_data_y['y']==1])/len(os_data_X))"
   ]
  },
  {
   "cell_type": "markdown",
   "metadata": {
    "colab_type": "text",
    "id": "eG-CQ_ZmKEDQ"
   },
   "source": [
    "# **MODELLING**"
   ]
  },
  {
   "cell_type": "code",
   "execution_count": 40,
   "metadata": {
    "colab": {
     "base_uri": "https://localhost:8080/",
     "height": 63
    },
    "colab_type": "code",
    "executionInfo": {
     "elapsed": 2091,
     "status": "ok",
     "timestamp": 1585298703503,
     "user": {
      "displayName": "Lorenzo Ostano",
      "photoUrl": "https://lh3.googleusercontent.com/a-/AOh14GgFg_mu4dJX96K7a9vTgwq0mMymhejwY6xYsf9DyA=s64",
      "userId": "12249114541243713917"
     },
     "user_tz": -60
    },
    "id": "-5rdbR6qKd_o",
    "outputId": "b9445bc6-75e8-434e-a108-f21008c7091f"
   },
   "outputs": [],
   "source": [
    "from sklearn.model_selection import train_test_split\n",
    "from tensorflow.keras.layers import Input, Dense, Dropout\n",
    "from tensorflow.keras.models import Model"
   ]
  },
  {
   "cell_type": "code",
   "execution_count": 41,
   "metadata": {
    "colab": {},
    "colab_type": "code",
    "id": "Q9I8Bbc6GgTf"
   },
   "outputs": [],
   "source": [
    "X = os_data_X.values\n",
    "y = os_data_y.values"
   ]
  },
  {
   "cell_type": "code",
   "execution_count": 42,
   "metadata": {
    "colab": {},
    "colab_type": "code",
    "id": "XuLzPSkdKXpZ"
   },
   "outputs": [],
   "source": [
    "#split train and test sets\n",
    "X_train, X_valid, y_train, y_valid = train_test_split(X, y, random_state=0, test_size=0.2, shuffle=True)"
   ]
  },
  {
   "cell_type": "code",
   "execution_count": 43,
   "metadata": {
    "colab": {
     "base_uri": "https://localhost:8080/",
     "height": 34
    },
    "colab_type": "code",
    "executionInfo": {
     "elapsed": 937,
     "status": "ok",
     "timestamp": 1585298707755,
     "user": {
      "displayName": "Lorenzo Ostano",
      "photoUrl": "https://lh3.googleusercontent.com/a-/AOh14GgFg_mu4dJX96K7a9vTgwq0mMymhejwY6xYsf9DyA=s64",
      "userId": "12249114541243713917"
     },
     "user_tz": -60
    },
    "id": "Ct2HtH_pKpjK",
    "outputId": "66fc2b2e-5408-47a3-e159-31811c264861"
   },
   "outputs": [
    {
     "data": {
      "text/plain": [
       "((800, 8), (200, 8))"
      ]
     },
     "execution_count": 43,
     "metadata": {},
     "output_type": "execute_result"
    }
   ],
   "source": [
    "X_train.shape, X_valid.shape"
   ]
  },
  {
   "cell_type": "code",
   "execution_count": 44,
   "metadata": {
    "colab": {},
    "colab_type": "code",
    "id": "c87eUBFSKtX-"
   },
   "outputs": [],
   "source": [
    "def model():\n",
    "    inputs = Input(shape=(X_train.shape[1], ))\n",
    "    dense = Dense(128, activation='relu')(inputs)\n",
    "    drops = Dropout(0.1)(dense)\n",
    "    outputs = Dense(1, activation='sigmoid')(drops)\n",
    "    model = Model(inputs=inputs, outputs=outputs)\n",
    "\n",
    "    return model"
   ]
  },
  {
   "cell_type": "code",
   "execution_count": 75,
   "metadata": {
    "colab": {
     "base_uri": "https://localhost:8080/",
     "height": 88
    },
    "colab_type": "code",
    "executionInfo": {
     "elapsed": 726,
     "status": "ok",
     "timestamp": 1585298709907,
     "user": {
      "displayName": "Lorenzo Ostano",
      "photoUrl": "https://lh3.googleusercontent.com/a-/AOh14GgFg_mu4dJX96K7a9vTgwq0mMymhejwY6xYsf9DyA=s64",
      "userId": "12249114541243713917"
     },
     "user_tz": -60
    },
    "id": "UgcfLwdYMUv1",
    "outputId": "f692b490-854d-456e-84b4-6c3734511b5a"
   },
   "outputs": [],
   "source": [
    "model = model()"
   ]
  },
  {
   "cell_type": "code",
   "execution_count": 76,
   "metadata": {
    "colab": {
     "base_uri": "https://localhost:8080/",
     "height": 88
    },
    "colab_type": "code",
    "executionInfo": {
     "elapsed": 490,
     "status": "ok",
     "timestamp": 1585298711326,
     "user": {
      "displayName": "Lorenzo Ostano",
      "photoUrl": "https://lh3.googleusercontent.com/a-/AOh14GgFg_mu4dJX96K7a9vTgwq0mMymhejwY6xYsf9DyA=s64",
      "userId": "12249114541243713917"
     },
     "user_tz": -60
    },
    "id": "XqRJ5knfMY2j",
    "outputId": "f19d033a-d30e-4393-df16-a13cea5422ca"
   },
   "outputs": [],
   "source": [
    "model.compile(optimizer='adam', loss='binary_crossentropy', metrics=['accuracy'])"
   ]
  },
  {
   "cell_type": "code",
   "execution_count": 77,
   "metadata": {
    "colab": {
     "base_uri": "https://localhost:8080/",
     "height": 289
    },
    "colab_type": "code",
    "executionInfo": {
     "elapsed": 475,
     "status": "ok",
     "timestamp": 1585298712848,
     "user": {
      "displayName": "Lorenzo Ostano",
      "photoUrl": "https://lh3.googleusercontent.com/a-/AOh14GgFg_mu4dJX96K7a9vTgwq0mMymhejwY6xYsf9DyA=s64",
      "userId": "12249114541243713917"
     },
     "user_tz": -60
    },
    "id": "Uww7vlKWMhuh",
    "outputId": "ce4d6a07-7350-45fc-9954-5f418eeaaad4"
   },
   "outputs": [
    {
     "name": "stdout",
     "output_type": "stream",
     "text": [
      "Model: \"model\"\n",
      "_________________________________________________________________\n",
      "Layer (type)                 Output Shape              Param #   \n",
      "=================================================================\n",
      "input_1 (InputLayer)         [(None, 8)]               0         \n",
      "_________________________________________________________________\n",
      "dense (Dense)                (None, 128)               1152      \n",
      "_________________________________________________________________\n",
      "dropout (Dropout)            (None, 128)               0         \n",
      "_________________________________________________________________\n",
      "dense_1 (Dense)              (None, 1)                 129       \n",
      "=================================================================\n",
      "Total params: 1,281\n",
      "Trainable params: 1,281\n",
      "Non-trainable params: 0\n",
      "_________________________________________________________________\n"
     ]
    }
   ],
   "source": [
    "model.summary()"
   ]
  },
  {
   "cell_type": "code",
   "execution_count": 78,
   "metadata": {
    "colab": {
     "base_uri": "https://localhost:8080/",
     "height": 1000
    },
    "colab_type": "code",
    "executionInfo": {
     "elapsed": 6396,
     "status": "ok",
     "timestamp": 1585298816006,
     "user": {
      "displayName": "Lorenzo Ostano",
      "photoUrl": "https://lh3.googleusercontent.com/a-/AOh14GgFg_mu4dJX96K7a9vTgwq0mMymhejwY6xYsf9DyA=s64",
      "userId": "12249114541243713917"
     },
     "user_tz": -60
    },
    "id": "XWVigfc_MnBo",
    "outputId": "69870626-7031-44d7-e455-637ca7829c08"
   },
   "outputs": [
    {
     "name": "stdout",
     "output_type": "stream",
     "text": [
      "Epoch 1/100\n",
      "13/13 - 0s - loss: 0.7025 - accuracy: 0.4925 - val_loss: 0.6924 - val_accuracy: 0.4700\n",
      "Epoch 2/100\n",
      "13/13 - 0s - loss: 0.6864 - accuracy: 0.5175 - val_loss: 0.6845 - val_accuracy: 0.4750\n",
      "Epoch 3/100\n",
      "13/13 - 0s - loss: 0.6782 - accuracy: 0.5525 - val_loss: 0.6744 - val_accuracy: 0.5650\n",
      "Epoch 4/100\n",
      "13/13 - 0s - loss: 0.6694 - accuracy: 0.6300 - val_loss: 0.6661 - val_accuracy: 0.6850\n",
      "Epoch 5/100\n",
      "13/13 - 0s - loss: 0.6663 - accuracy: 0.6875 - val_loss: 0.6581 - val_accuracy: 0.7550\n",
      "Epoch 6/100\n",
      "13/13 - 0s - loss: 0.6561 - accuracy: 0.6862 - val_loss: 0.6528 - val_accuracy: 0.6750\n",
      "Epoch 7/100\n",
      "13/13 - 0s - loss: 0.6499 - accuracy: 0.6687 - val_loss: 0.6447 - val_accuracy: 0.7300\n",
      "Epoch 8/100\n",
      "13/13 - 0s - loss: 0.6437 - accuracy: 0.7088 - val_loss: 0.6354 - val_accuracy: 0.7700\n",
      "Epoch 9/100\n",
      "13/13 - 0s - loss: 0.6387 - accuracy: 0.7138 - val_loss: 0.6267 - val_accuracy: 0.7900\n",
      "Epoch 10/100\n",
      "13/13 - 0s - loss: 0.6314 - accuracy: 0.7150 - val_loss: 0.6180 - val_accuracy: 0.7850\n",
      "Epoch 11/100\n",
      "13/13 - 0s - loss: 0.6236 - accuracy: 0.7088 - val_loss: 0.6104 - val_accuracy: 0.7800\n",
      "Epoch 12/100\n",
      "13/13 - 0s - loss: 0.6160 - accuracy: 0.7188 - val_loss: 0.6003 - val_accuracy: 0.8000\n",
      "Epoch 13/100\n",
      "13/13 - 0s - loss: 0.6080 - accuracy: 0.7287 - val_loss: 0.5924 - val_accuracy: 0.7950\n",
      "Epoch 14/100\n",
      "13/13 - 0s - loss: 0.6030 - accuracy: 0.7362 - val_loss: 0.5830 - val_accuracy: 0.7900\n",
      "Epoch 15/100\n",
      "13/13 - 0s - loss: 0.5979 - accuracy: 0.7300 - val_loss: 0.5751 - val_accuracy: 0.7900\n",
      "Epoch 16/100\n",
      "13/13 - 0s - loss: 0.5906 - accuracy: 0.7400 - val_loss: 0.5672 - val_accuracy: 0.8000\n",
      "Epoch 17/100\n",
      "13/13 - 0s - loss: 0.5831 - accuracy: 0.7287 - val_loss: 0.5589 - val_accuracy: 0.7950\n",
      "Epoch 18/100\n",
      "13/13 - 0s - loss: 0.5785 - accuracy: 0.7300 - val_loss: 0.5516 - val_accuracy: 0.7950\n",
      "Epoch 19/100\n",
      "13/13 - 0s - loss: 0.5711 - accuracy: 0.7513 - val_loss: 0.5425 - val_accuracy: 0.7900\n",
      "Epoch 20/100\n",
      "13/13 - 0s - loss: 0.5645 - accuracy: 0.7362 - val_loss: 0.5348 - val_accuracy: 0.7900\n",
      "Epoch 21/100\n",
      "13/13 - 0s - loss: 0.5603 - accuracy: 0.7450 - val_loss: 0.5282 - val_accuracy: 0.8000\n",
      "Epoch 22/100\n",
      "13/13 - 0s - loss: 0.5541 - accuracy: 0.7575 - val_loss: 0.5198 - val_accuracy: 0.7950\n",
      "Epoch 23/100\n",
      "13/13 - 0s - loss: 0.5508 - accuracy: 0.7387 - val_loss: 0.5134 - val_accuracy: 0.8000\n",
      "Epoch 24/100\n",
      "13/13 - 0s - loss: 0.5462 - accuracy: 0.7487 - val_loss: 0.5077 - val_accuracy: 0.8050\n",
      "Epoch 25/100\n",
      "13/13 - 0s - loss: 0.5344 - accuracy: 0.7475 - val_loss: 0.5027 - val_accuracy: 0.8000\n",
      "Epoch 26/100\n",
      "13/13 - 0s - loss: 0.5368 - accuracy: 0.7538 - val_loss: 0.4957 - val_accuracy: 0.8100\n",
      "Epoch 27/100\n",
      "13/13 - 0s - loss: 0.5294 - accuracy: 0.7538 - val_loss: 0.4906 - val_accuracy: 0.8100\n",
      "Epoch 28/100\n",
      "13/13 - 0s - loss: 0.5250 - accuracy: 0.7600 - val_loss: 0.4856 - val_accuracy: 0.8100\n",
      "Epoch 29/100\n",
      "13/13 - 0s - loss: 0.5261 - accuracy: 0.7450 - val_loss: 0.4808 - val_accuracy: 0.8100\n",
      "Epoch 30/100\n",
      "13/13 - 0s - loss: 0.5217 - accuracy: 0.7550 - val_loss: 0.4765 - val_accuracy: 0.8100\n",
      "Epoch 31/100\n",
      "13/13 - 0s - loss: 0.5131 - accuracy: 0.7588 - val_loss: 0.4715 - val_accuracy: 0.8100\n",
      "Epoch 32/100\n",
      "13/13 - 0s - loss: 0.5131 - accuracy: 0.7600 - val_loss: 0.4688 - val_accuracy: 0.8050\n",
      "Epoch 33/100\n",
      "13/13 - 0s - loss: 0.5150 - accuracy: 0.7625 - val_loss: 0.4642 - val_accuracy: 0.8000\n",
      "Epoch 34/100\n",
      "13/13 - 0s - loss: 0.5095 - accuracy: 0.7700 - val_loss: 0.4609 - val_accuracy: 0.8100\n",
      "Epoch 35/100\n",
      "13/13 - 0s - loss: 0.5055 - accuracy: 0.7675 - val_loss: 0.4581 - val_accuracy: 0.8000\n",
      "Epoch 36/100\n",
      "13/13 - 0s - loss: 0.5058 - accuracy: 0.7613 - val_loss: 0.4549 - val_accuracy: 0.8100\n",
      "Epoch 37/100\n",
      "13/13 - 0s - loss: 0.5053 - accuracy: 0.7663 - val_loss: 0.4532 - val_accuracy: 0.8000\n",
      "Epoch 38/100\n",
      "13/13 - 0s - loss: 0.5034 - accuracy: 0.7725 - val_loss: 0.4491 - val_accuracy: 0.8200\n",
      "Epoch 39/100\n",
      "13/13 - 0s - loss: 0.5016 - accuracy: 0.7613 - val_loss: 0.4466 - val_accuracy: 0.8200\n",
      "Epoch 40/100\n",
      "13/13 - 0s - loss: 0.5010 - accuracy: 0.7663 - val_loss: 0.4452 - val_accuracy: 0.8050\n",
      "Epoch 41/100\n",
      "13/13 - 0s - loss: 0.4961 - accuracy: 0.7663 - val_loss: 0.4416 - val_accuracy: 0.8100\n",
      "Epoch 42/100\n",
      "13/13 - 0s - loss: 0.4964 - accuracy: 0.7588 - val_loss: 0.4407 - val_accuracy: 0.8150\n",
      "Epoch 43/100\n",
      "13/13 - 0s - loss: 0.4933 - accuracy: 0.7675 - val_loss: 0.4377 - val_accuracy: 0.8100\n",
      "Epoch 44/100\n",
      "13/13 - 0s - loss: 0.4928 - accuracy: 0.7650 - val_loss: 0.4355 - val_accuracy: 0.8250\n",
      "Epoch 45/100\n",
      "13/13 - 0s - loss: 0.4906 - accuracy: 0.7650 - val_loss: 0.4343 - val_accuracy: 0.8150\n",
      "Epoch 46/100\n",
      "13/13 - 0s - loss: 0.4916 - accuracy: 0.7663 - val_loss: 0.4315 - val_accuracy: 0.8250\n",
      "Epoch 47/100\n",
      "13/13 - 0s - loss: 0.4887 - accuracy: 0.7663 - val_loss: 0.4322 - val_accuracy: 0.8200\n",
      "Epoch 48/100\n",
      "13/13 - 0s - loss: 0.4903 - accuracy: 0.7650 - val_loss: 0.4282 - val_accuracy: 0.8150\n",
      "Epoch 49/100\n",
      "13/13 - 0s - loss: 0.4891 - accuracy: 0.7600 - val_loss: 0.4273 - val_accuracy: 0.8150\n",
      "Epoch 50/100\n",
      "13/13 - 0s - loss: 0.4864 - accuracy: 0.7763 - val_loss: 0.4246 - val_accuracy: 0.8200\n",
      "Epoch 51/100\n",
      "13/13 - 0s - loss: 0.4861 - accuracy: 0.7675 - val_loss: 0.4239 - val_accuracy: 0.8150\n",
      "Epoch 52/100\n",
      "13/13 - 0s - loss: 0.4829 - accuracy: 0.7588 - val_loss: 0.4219 - val_accuracy: 0.8200\n",
      "Epoch 53/100\n",
      "13/13 - 0s - loss: 0.4876 - accuracy: 0.7725 - val_loss: 0.4216 - val_accuracy: 0.8250\n",
      "Epoch 54/100\n",
      "13/13 - 0s - loss: 0.4865 - accuracy: 0.7688 - val_loss: 0.4189 - val_accuracy: 0.8200\n",
      "Epoch 55/100\n",
      "13/13 - 0s - loss: 0.4830 - accuracy: 0.7725 - val_loss: 0.4178 - val_accuracy: 0.8300\n",
      "Epoch 56/100\n",
      "13/13 - 0s - loss: 0.4885 - accuracy: 0.7625 - val_loss: 0.4167 - val_accuracy: 0.8200\n",
      "Epoch 57/100\n",
      "13/13 - 0s - loss: 0.4819 - accuracy: 0.7800 - val_loss: 0.4148 - val_accuracy: 0.8250\n",
      "Epoch 58/100\n",
      "13/13 - 0s - loss: 0.4845 - accuracy: 0.7688 - val_loss: 0.4146 - val_accuracy: 0.8200\n",
      "Epoch 59/100\n",
      "13/13 - 0s - loss: 0.4810 - accuracy: 0.7700 - val_loss: 0.4132 - val_accuracy: 0.8350\n",
      "Epoch 60/100\n",
      "13/13 - 0s - loss: 0.4805 - accuracy: 0.7775 - val_loss: 0.4120 - val_accuracy: 0.8350\n",
      "Epoch 61/100\n",
      "13/13 - 0s - loss: 0.4765 - accuracy: 0.7750 - val_loss: 0.4103 - val_accuracy: 0.8300\n",
      "Epoch 62/100\n",
      "13/13 - 0s - loss: 0.4828 - accuracy: 0.7713 - val_loss: 0.4100 - val_accuracy: 0.8200\n",
      "Epoch 63/100\n",
      "13/13 - 0s - loss: 0.4810 - accuracy: 0.7625 - val_loss: 0.4093 - val_accuracy: 0.8300\n",
      "Epoch 64/100\n",
      "13/13 - 0s - loss: 0.4772 - accuracy: 0.7738 - val_loss: 0.4079 - val_accuracy: 0.8250\n",
      "Epoch 65/100\n",
      "13/13 - 0s - loss: 0.4808 - accuracy: 0.7825 - val_loss: 0.4071 - val_accuracy: 0.8400\n",
      "Epoch 66/100\n",
      "13/13 - 0s - loss: 0.4780 - accuracy: 0.7713 - val_loss: 0.4064 - val_accuracy: 0.8450\n",
      "Epoch 67/100\n",
      "13/13 - 0s - loss: 0.4768 - accuracy: 0.7763 - val_loss: 0.4053 - val_accuracy: 0.8400\n",
      "Epoch 68/100\n",
      "13/13 - 0s - loss: 0.4754 - accuracy: 0.7788 - val_loss: 0.4046 - val_accuracy: 0.8350\n",
      "Epoch 69/100\n",
      "13/13 - 0s - loss: 0.4747 - accuracy: 0.7812 - val_loss: 0.4036 - val_accuracy: 0.8250\n",
      "Epoch 70/100\n",
      "13/13 - 0s - loss: 0.4782 - accuracy: 0.7725 - val_loss: 0.4027 - val_accuracy: 0.8450\n",
      "Epoch 71/100\n",
      "13/13 - 0s - loss: 0.4736 - accuracy: 0.7825 - val_loss: 0.4022 - val_accuracy: 0.8350\n",
      "Epoch 72/100\n",
      "13/13 - 0s - loss: 0.4756 - accuracy: 0.7788 - val_loss: 0.4014 - val_accuracy: 0.8350\n",
      "Epoch 73/100\n",
      "13/13 - 0s - loss: 0.4739 - accuracy: 0.7775 - val_loss: 0.4002 - val_accuracy: 0.8400\n",
      "Epoch 74/100\n",
      "13/13 - 0s - loss: 0.4864 - accuracy: 0.7763 - val_loss: 0.4006 - val_accuracy: 0.8350\n",
      "Epoch 75/100\n",
      "13/13 - 0s - loss: 0.4758 - accuracy: 0.7738 - val_loss: 0.3991 - val_accuracy: 0.8400\n",
      "Epoch 76/100\n",
      "13/13 - 0s - loss: 0.4718 - accuracy: 0.7912 - val_loss: 0.3995 - val_accuracy: 0.8350\n",
      "Epoch 77/100\n",
      "13/13 - 0s - loss: 0.4738 - accuracy: 0.7850 - val_loss: 0.3974 - val_accuracy: 0.8400\n",
      "Epoch 78/100\n",
      "13/13 - 0s - loss: 0.4717 - accuracy: 0.7788 - val_loss: 0.3967 - val_accuracy: 0.8500\n",
      "Epoch 79/100\n",
      "13/13 - 0s - loss: 0.4726 - accuracy: 0.7825 - val_loss: 0.3965 - val_accuracy: 0.8500\n",
      "Epoch 80/100\n",
      "13/13 - 0s - loss: 0.4711 - accuracy: 0.7887 - val_loss: 0.3964 - val_accuracy: 0.8400\n",
      "Epoch 81/100\n",
      "13/13 - 0s - loss: 0.4720 - accuracy: 0.7875 - val_loss: 0.3953 - val_accuracy: 0.8500\n",
      "Epoch 82/100\n",
      "13/13 - 0s - loss: 0.4695 - accuracy: 0.7800 - val_loss: 0.3952 - val_accuracy: 0.8400\n",
      "Epoch 83/100\n"
     ]
    },
    {
     "name": "stdout",
     "output_type": "stream",
     "text": [
      "13/13 - 0s - loss: 0.4665 - accuracy: 0.7950 - val_loss: 0.3933 - val_accuracy: 0.8500\n",
      "Epoch 84/100\n",
      "13/13 - 0s - loss: 0.4698 - accuracy: 0.7875 - val_loss: 0.3927 - val_accuracy: 0.8450\n",
      "Epoch 85/100\n",
      "13/13 - 0s - loss: 0.4737 - accuracy: 0.7788 - val_loss: 0.3931 - val_accuracy: 0.8500\n",
      "Epoch 86/100\n",
      "13/13 - 0s - loss: 0.4728 - accuracy: 0.7638 - val_loss: 0.3921 - val_accuracy: 0.8500\n",
      "Epoch 87/100\n",
      "13/13 - 0s - loss: 0.4716 - accuracy: 0.7825 - val_loss: 0.3918 - val_accuracy: 0.8500\n",
      "Epoch 88/100\n",
      "13/13 - 0s - loss: 0.4653 - accuracy: 0.7900 - val_loss: 0.3913 - val_accuracy: 0.8450\n",
      "Epoch 89/100\n",
      "13/13 - 0s - loss: 0.4676 - accuracy: 0.7875 - val_loss: 0.3905 - val_accuracy: 0.8500\n",
      "Epoch 90/100\n",
      "13/13 - 0s - loss: 0.4683 - accuracy: 0.7825 - val_loss: 0.3906 - val_accuracy: 0.8450\n",
      "Epoch 91/100\n",
      "13/13 - 0s - loss: 0.4700 - accuracy: 0.7950 - val_loss: 0.3895 - val_accuracy: 0.8500\n",
      "Epoch 92/100\n",
      "13/13 - 0s - loss: 0.4681 - accuracy: 0.7812 - val_loss: 0.3885 - val_accuracy: 0.8500\n",
      "Epoch 93/100\n",
      "13/13 - 0s - loss: 0.4654 - accuracy: 0.7812 - val_loss: 0.3896 - val_accuracy: 0.8400\n",
      "Epoch 94/100\n",
      "13/13 - 0s - loss: 0.4697 - accuracy: 0.7850 - val_loss: 0.3881 - val_accuracy: 0.8500\n",
      "Epoch 95/100\n",
      "13/13 - 0s - loss: 0.4655 - accuracy: 0.7850 - val_loss: 0.3869 - val_accuracy: 0.8500\n",
      "Epoch 96/100\n",
      "13/13 - 0s - loss: 0.4671 - accuracy: 0.7925 - val_loss: 0.3872 - val_accuracy: 0.8450\n",
      "Epoch 97/100\n",
      "13/13 - 0s - loss: 0.4703 - accuracy: 0.7887 - val_loss: 0.3864 - val_accuracy: 0.8500\n",
      "Epoch 98/100\n",
      "13/13 - 0s - loss: 0.4688 - accuracy: 0.7975 - val_loss: 0.3863 - val_accuracy: 0.8500\n",
      "Epoch 99/100\n",
      "13/13 - 0s - loss: 0.4685 - accuracy: 0.7613 - val_loss: 0.3866 - val_accuracy: 0.8400\n",
      "Epoch 100/100\n",
      "13/13 - 0s - loss: 0.4651 - accuracy: 0.7987 - val_loss: 0.3872 - val_accuracy: 0.8400\n"
     ]
    },
    {
     "data": {
      "text/plain": [
       "<tensorflow.python.keras.callbacks.History at 0x2649ee62ac0>"
      ]
     },
     "execution_count": 78,
     "metadata": {},
     "output_type": "execute_result"
    }
   ],
   "source": [
    "model.fit(X_train, y_train, batch_size=64, epochs=100, verbose=2, validation_data=(X_valid, y_valid))\n",
    "    #, class_weight=dict(enumerate(class_weights)))"
   ]
  },
  {
   "cell_type": "markdown",
   "metadata": {
    "colab_type": "text",
    "id": "8Ho7dbihqvK_"
   },
   "source": [
    "**Evaluate Performance**"
   ]
  },
  {
   "cell_type": "code",
   "execution_count": 79,
   "metadata": {
    "colab": {},
    "colab_type": "code",
    "id": "KAE9EgwQNcyP"
   },
   "outputs": [],
   "source": [
    "y_pred = model.predict(X_valid)"
   ]
  },
  {
   "cell_type": "code",
   "execution_count": 80,
   "metadata": {
    "colab": {},
    "colab_type": "code",
    "id": "DPP9mgnTq3Jx"
   },
   "outputs": [],
   "source": [
    "y_pred = y_pred.reshape((y_pred.shape[0],))"
   ]
  },
  {
   "cell_type": "code",
   "execution_count": 81,
   "metadata": {
    "colab": {},
    "colab_type": "code",
    "id": "--VrQguSrnTD"
   },
   "outputs": [],
   "source": [
    "y_pred = np.where(y_pred > 0.5, 1, 0)"
   ]
  },
  {
   "cell_type": "markdown",
   "metadata": {
    "colab_type": "text",
    "id": "IEoAl-VTrN9P"
   },
   "source": [
    "Confusion Matrix"
   ]
  },
  {
   "cell_type": "code",
   "execution_count": 82,
   "metadata": {
    "colab": {
     "base_uri": "https://localhost:8080/",
     "height": 51
    },
    "colab_type": "code",
    "executionInfo": {
     "elapsed": 1194,
     "status": "ok",
     "timestamp": 1585298825558,
     "user": {
      "displayName": "Lorenzo Ostano",
      "photoUrl": "https://lh3.googleusercontent.com/a-/AOh14GgFg_mu4dJX96K7a9vTgwq0mMymhejwY6xYsf9DyA=s64",
      "userId": "12249114541243713917"
     },
     "user_tz": -60
    },
    "id": "EG9ogCYwq51j",
    "outputId": "7df3f7c7-6b99-45ea-8ad4-d68b3be218af"
   },
   "outputs": [
    {
     "name": "stdout",
     "output_type": "stream",
     "text": [
      "[[81 24]\n",
      " [ 8 87]]\n"
     ]
    }
   ],
   "source": [
    "from sklearn.metrics import confusion_matrix\n",
    "confusion_matrix = confusion_matrix(y_valid, y_pred)\n",
    "print(confusion_matrix)"
   ]
  },
  {
   "cell_type": "markdown",
   "metadata": {
    "colab_type": "text",
    "id": "Y9w7dJ3PsVwD"
   },
   "source": [
    "Classification Report"
   ]
  },
  {
   "cell_type": "code",
   "execution_count": 83,
   "metadata": {
    "colab": {
     "base_uri": "https://localhost:8080/",
     "height": 170
    },
    "colab_type": "code",
    "executionInfo": {
     "elapsed": 807,
     "status": "ok",
     "timestamp": 1585298843714,
     "user": {
      "displayName": "Lorenzo Ostano",
      "photoUrl": "https://lh3.googleusercontent.com/a-/AOh14GgFg_mu4dJX96K7a9vTgwq0mMymhejwY6xYsf9DyA=s64",
      "userId": "12249114541243713917"
     },
     "user_tz": -60
    },
    "id": "1HIS0KYQrI0l",
    "outputId": "1656e81e-1f1c-4123-c699-a354ff7fc59f"
   },
   "outputs": [
    {
     "name": "stdout",
     "output_type": "stream",
     "text": [
      "              precision    recall  f1-score   support\n",
      "\n",
      "           0       0.91      0.77      0.84       105\n",
      "           1       0.78      0.92      0.84        95\n",
      "\n",
      "    accuracy                           0.84       200\n",
      "   macro avg       0.85      0.84      0.84       200\n",
      "weighted avg       0.85      0.84      0.84       200\n",
      "\n"
     ]
    }
   ],
   "source": [
    "from sklearn.metrics import classification_report\n",
    "print(classification_report(y_valid, y_pred))"
   ]
  },
  {
   "cell_type": "markdown",
   "metadata": {
    "colab_type": "text",
    "id": "W0gKaTGbJwvz"
   },
   "source": [
    "# **CALCULATE PREDICTIONS**"
   ]
  },
  {
   "cell_type": "code",
   "execution_count": 86,
   "metadata": {
    "colab": {},
    "colab_type": "code",
    "id": "S3WSvCOHsaKA"
   },
   "outputs": [],
   "source": [
    "test = pd.read_csv(os.path.join(path, 'test.csv'))\n",
    "test.drop('p_id', axis=1, inplace=True)"
   ]
  },
  {
   "cell_type": "code",
   "execution_count": 87,
   "metadata": {
    "colab": {},
    "colab_type": "code",
    "id": "vn8Ss87ELY3i"
   },
   "outputs": [],
   "source": [
    "test.columns = df.columns[:-1]"
   ]
  },
  {
   "cell_type": "code",
   "execution_count": 88,
   "metadata": {
    "colab": {
     "base_uri": "https://localhost:8080/",
     "height": 204
    },
    "colab_type": "code",
    "executionInfo": {
     "elapsed": 1066,
     "status": "ok",
     "timestamp": 1585298941328,
     "user": {
      "displayName": "Lorenzo Ostano",
      "photoUrl": "https://lh3.googleusercontent.com/a-/AOh14GgFg_mu4dJX96K7a9vTgwq0mMymhejwY6xYsf9DyA=s64",
      "userId": "12249114541243713917"
     },
     "user_tz": -60
    },
    "id": "wBbuRiJwLftx",
    "outputId": "5ee82242-9c3a-415f-cd72-72bfb8e453e7"
   },
   "outputs": [
    {
     "data": {
      "text/html": [
       "<div>\n",
       "<style scoped>\n",
       "    .dataframe tbody tr th:only-of-type {\n",
       "        vertical-align: middle;\n",
       "    }\n",
       "\n",
       "    .dataframe tbody tr th {\n",
       "        vertical-align: top;\n",
       "    }\n",
       "\n",
       "    .dataframe thead th {\n",
       "        text-align: right;\n",
       "    }\n",
       "</style>\n",
       "<table border=\"1\" class=\"dataframe\">\n",
       "  <thead>\n",
       "    <tr style=\"text-align: right;\">\n",
       "      <th></th>\n",
       "      <th>Pregnancies</th>\n",
       "      <th>Glucose</th>\n",
       "      <th>BloodPressure</th>\n",
       "      <th>SkinThickness</th>\n",
       "      <th>Insulin</th>\n",
       "      <th>BMI</th>\n",
       "      <th>DiabetesPedigreeFunction</th>\n",
       "      <th>Age</th>\n",
       "    </tr>\n",
       "  </thead>\n",
       "  <tbody>\n",
       "    <tr>\n",
       "      <th>0</th>\n",
       "      <td>12</td>\n",
       "      <td>140</td>\n",
       "      <td>85</td>\n",
       "      <td>33</td>\n",
       "      <td>0</td>\n",
       "      <td>37.4</td>\n",
       "      <td>0.244</td>\n",
       "      <td>41</td>\n",
       "    </tr>\n",
       "    <tr>\n",
       "      <th>1</th>\n",
       "      <td>6</td>\n",
       "      <td>102</td>\n",
       "      <td>90</td>\n",
       "      <td>39</td>\n",
       "      <td>0</td>\n",
       "      <td>35.7</td>\n",
       "      <td>0.674</td>\n",
       "      <td>28</td>\n",
       "    </tr>\n",
       "    <tr>\n",
       "      <th>2</th>\n",
       "      <td>7</td>\n",
       "      <td>97</td>\n",
       "      <td>76</td>\n",
       "      <td>32</td>\n",
       "      <td>91</td>\n",
       "      <td>40.9</td>\n",
       "      <td>0.871</td>\n",
       "      <td>32</td>\n",
       "    </tr>\n",
       "    <tr>\n",
       "      <th>3</th>\n",
       "      <td>7</td>\n",
       "      <td>179</td>\n",
       "      <td>95</td>\n",
       "      <td>31</td>\n",
       "      <td>0</td>\n",
       "      <td>34.2</td>\n",
       "      <td>0.164</td>\n",
       "      <td>60</td>\n",
       "    </tr>\n",
       "    <tr>\n",
       "      <th>4</th>\n",
       "      <td>6</td>\n",
       "      <td>87</td>\n",
       "      <td>80</td>\n",
       "      <td>0</td>\n",
       "      <td>0</td>\n",
       "      <td>23.2</td>\n",
       "      <td>0.084</td>\n",
       "      <td>32</td>\n",
       "    </tr>\n",
       "  </tbody>\n",
       "</table>\n",
       "</div>"
      ],
      "text/plain": [
       "   Pregnancies  Glucose  BloodPressure  SkinThickness  Insulin   BMI  \\\n",
       "0           12      140             85             33        0  37.4   \n",
       "1            6      102             90             39        0  35.7   \n",
       "2            7       97             76             32       91  40.9   \n",
       "3            7      179             95             31        0  34.2   \n",
       "4            6       87             80              0        0  23.2   \n",
       "\n",
       "   DiabetesPedigreeFunction  Age  \n",
       "0                     0.244   41  \n",
       "1                     0.674   28  \n",
       "2                     0.871   32  \n",
       "3                     0.164   60  \n",
       "4                     0.084   32  "
      ]
     },
     "execution_count": 88,
     "metadata": {},
     "output_type": "execute_result"
    }
   ],
   "source": [
    "test.head()"
   ]
  },
  {
   "cell_type": "markdown",
   "metadata": {
    "colab_type": "text",
    "id": "6Lyh-NhLLoS_"
   },
   "source": [
    "**Feature Eng**"
   ]
  },
  {
   "cell_type": "markdown",
   "metadata": {
    "colab_type": "text",
    "id": "1Q62bUkxLs5H"
   },
   "source": [
    "Replace zeros with mean"
   ]
  },
  {
   "cell_type": "code",
   "execution_count": 89,
   "metadata": {
    "colab": {},
    "colab_type": "code",
    "id": "K0XFsgAXLq6Y"
   },
   "outputs": [],
   "source": [
    "def replace_zeros(df):\n",
    "    def replace_col(df, var):\n",
    "        mean = df[var].mean()\n",
    "        df.loc[df[var]==0.0, var] = mean\n",
    "    \n",
    "    X = df.copy()\n",
    "    for var in cont_vars:\n",
    "        replace_col(X, var)\n",
    "\n",
    "    return X"
   ]
  },
  {
   "cell_type": "code",
   "execution_count": 90,
   "metadata": {
    "colab": {},
    "colab_type": "code",
    "id": "aWY68VoDLyZf"
   },
   "outputs": [],
   "source": [
    "test2 = replace_zeros(test)"
   ]
  },
  {
   "cell_type": "markdown",
   "metadata": {
    "colab_type": "text",
    "id": "3fWrkTbwL1ai"
   },
   "source": [
    "Log transform"
   ]
  },
  {
   "cell_type": "code",
   "execution_count": 91,
   "metadata": {
    "colab": {},
    "colab_type": "code",
    "id": "EAM7114JL3cq"
   },
   "outputs": [],
   "source": [
    "test3 = log_transform(test2)"
   ]
  },
  {
   "cell_type": "markdown",
   "metadata": {
    "colab_type": "text",
    "id": "K5idjYc5L6tZ"
   },
   "source": [
    "Feature Scaling"
   ]
  },
  {
   "cell_type": "code",
   "execution_count": 92,
   "metadata": {
    "colab": {},
    "colab_type": "code",
    "id": "3nMEFOQaL9fn"
   },
   "outputs": [],
   "source": [
    "test4 = pd.DataFrame(scaler.transform(test3[cont_vars+discrete_vars]), columns=test3.columns)"
   ]
  },
  {
   "cell_type": "code",
   "execution_count": 93,
   "metadata": {
    "colab": {
     "base_uri": "https://localhost:8080/",
     "height": 204
    },
    "colab_type": "code",
    "executionInfo": {
     "elapsed": 1090,
     "status": "ok",
     "timestamp": 1585299092956,
     "user": {
      "displayName": "Lorenzo Ostano",
      "photoUrl": "https://lh3.googleusercontent.com/a-/AOh14GgFg_mu4dJX96K7a9vTgwq0mMymhejwY6xYsf9DyA=s64",
      "userId": "12249114541243713917"
     },
     "user_tz": -60
    },
    "id": "9ubG4N3HMF7o",
    "outputId": "d622081f-32c1-49c8-aa18-ba31ee996724"
   },
   "outputs": [
    {
     "data": {
      "text/html": [
       "<div>\n",
       "<style scoped>\n",
       "    .dataframe tbody tr th:only-of-type {\n",
       "        vertical-align: middle;\n",
       "    }\n",
       "\n",
       "    .dataframe tbody tr th {\n",
       "        vertical-align: top;\n",
       "    }\n",
       "\n",
       "    .dataframe thead th {\n",
       "        text-align: right;\n",
       "    }\n",
       "</style>\n",
       "<table border=\"1\" class=\"dataframe\">\n",
       "  <thead>\n",
       "    <tr style=\"text-align: right;\">\n",
       "      <th></th>\n",
       "      <th>Pregnancies</th>\n",
       "      <th>Glucose</th>\n",
       "      <th>BloodPressure</th>\n",
       "      <th>SkinThickness</th>\n",
       "      <th>Insulin</th>\n",
       "      <th>BMI</th>\n",
       "      <th>DiabetesPedigreeFunction</th>\n",
       "      <th>Age</th>\n",
       "    </tr>\n",
       "  </thead>\n",
       "  <tbody>\n",
       "    <tr>\n",
       "      <th>0</th>\n",
       "      <td>0.766974</td>\n",
       "      <td>0.777751</td>\n",
       "      <td>0.585306</td>\n",
       "      <td>0.429706</td>\n",
       "      <td>0.552016</td>\n",
       "      <td>0.332029</td>\n",
       "      <td>0.333333</td>\n",
       "      <td>0.705882</td>\n",
       "    </tr>\n",
       "    <tr>\n",
       "      <th>1</th>\n",
       "      <td>0.557137</td>\n",
       "      <td>0.812904</td>\n",
       "      <td>0.648364</td>\n",
       "      <td>0.429706</td>\n",
       "      <td>0.516361</td>\n",
       "      <td>0.627842</td>\n",
       "      <td>0.116667</td>\n",
       "      <td>0.352941</td>\n",
       "    </tr>\n",
       "    <tr>\n",
       "      <th>2</th>\n",
       "      <td>0.523831</td>\n",
       "      <td>0.708919</td>\n",
       "      <td>0.573690</td>\n",
       "      <td>0.456374</td>\n",
       "      <td>0.620579</td>\n",
       "      <td>0.702493</td>\n",
       "      <td>0.183333</td>\n",
       "      <td>0.411765</td>\n",
       "    </tr>\n",
       "    <tr>\n",
       "      <th>3</th>\n",
       "      <td>0.929814</td>\n",
       "      <td>0.846157</td>\n",
       "      <td>0.561706</td>\n",
       "      <td>0.429706</td>\n",
       "      <td>0.483463</td>\n",
       "      <td>0.216360</td>\n",
       "      <td>0.650000</td>\n",
       "      <td>0.411765</td>\n",
       "    </tr>\n",
       "    <tr>\n",
       "      <th>4</th>\n",
       "      <td>0.451734</td>\n",
       "      <td>0.740466</td>\n",
       "      <td>0.427094</td>\n",
       "      <td>0.429706</td>\n",
       "      <td>0.186034</td>\n",
       "      <td>0.021576</td>\n",
       "      <td>0.183333</td>\n",
       "      <td>0.352941</td>\n",
       "    </tr>\n",
       "  </tbody>\n",
       "</table>\n",
       "</div>"
      ],
      "text/plain": [
       "   Pregnancies   Glucose  BloodPressure  SkinThickness   Insulin       BMI  \\\n",
       "0     0.766974  0.777751       0.585306       0.429706  0.552016  0.332029   \n",
       "1     0.557137  0.812904       0.648364       0.429706  0.516361  0.627842   \n",
       "2     0.523831  0.708919       0.573690       0.456374  0.620579  0.702493   \n",
       "3     0.929814  0.846157       0.561706       0.429706  0.483463  0.216360   \n",
       "4     0.451734  0.740466       0.427094       0.429706  0.186034  0.021576   \n",
       "\n",
       "   DiabetesPedigreeFunction       Age  \n",
       "0                  0.333333  0.705882  \n",
       "1                  0.116667  0.352941  \n",
       "2                  0.183333  0.411765  \n",
       "3                  0.650000  0.411765  \n",
       "4                  0.183333  0.352941  "
      ]
     },
     "execution_count": 93,
     "metadata": {},
     "output_type": "execute_result"
    }
   ],
   "source": [
    "test4.head()"
   ]
  },
  {
   "cell_type": "code",
   "execution_count": 94,
   "metadata": {
    "colab": {},
    "colab_type": "code",
    "id": "JEWgOtMcMKsN"
   },
   "outputs": [],
   "source": [
    "test_features = test4.values"
   ]
  },
  {
   "cell_type": "markdown",
   "metadata": {
    "colab_type": "text",
    "id": "gxdRC_ZXMNCc"
   },
   "source": [
    "Generate Predictions array"
   ]
  },
  {
   "cell_type": "code",
   "execution_count": 95,
   "metadata": {
    "colab": {},
    "colab_type": "code",
    "id": "8mTFMK8lMPS-"
   },
   "outputs": [],
   "source": [
    "preds = model.predict(test_features)"
   ]
  },
  {
   "cell_type": "code",
   "execution_count": 96,
   "metadata": {
    "colab": {},
    "colab_type": "code",
    "id": "3jmj5a7YMYjx"
   },
   "outputs": [],
   "source": [
    "preds = preds.reshape((preds.shape[0],))"
   ]
  },
  {
   "cell_type": "code",
   "execution_count": 97,
   "metadata": {
    "colab": {},
    "colab_type": "code",
    "id": "O2oPrQ4xMdPr"
   },
   "outputs": [],
   "source": [
    "preds = np.where(preds > 0.5, 1, 0)"
   ]
  },
  {
   "cell_type": "markdown",
   "metadata": {
    "colab_type": "text",
    "id": "9RgprfTuMzpQ"
   },
   "source": [
    "Generate complete predictions dataframe"
   ]
  },
  {
   "cell_type": "code",
   "execution_count": 98,
   "metadata": {
    "colab": {},
    "colab_type": "code",
    "id": "APRDQ3DkMv3b"
   },
   "outputs": [],
   "source": [
    "test['prediction'] = pd.Series(preds)"
   ]
  },
  {
   "cell_type": "code",
   "execution_count": 99,
   "metadata": {
    "colab": {
     "base_uri": "https://localhost:8080/",
     "height": 204
    },
    "colab_type": "code",
    "executionInfo": {
     "elapsed": 877,
     "status": "ok",
     "timestamp": 1585299310725,
     "user": {
      "displayName": "Lorenzo Ostano",
      "photoUrl": "https://lh3.googleusercontent.com/a-/AOh14GgFg_mu4dJX96K7a9vTgwq0mMymhejwY6xYsf9DyA=s64",
      "userId": "12249114541243713917"
     },
     "user_tz": -60
    },
    "id": "x2c-mxZRM7VK",
    "outputId": "08fb62aa-3900-4001-fedf-4c0c1fa285e3"
   },
   "outputs": [
    {
     "data": {
      "text/html": [
       "<div>\n",
       "<style scoped>\n",
       "    .dataframe tbody tr th:only-of-type {\n",
       "        vertical-align: middle;\n",
       "    }\n",
       "\n",
       "    .dataframe tbody tr th {\n",
       "        vertical-align: top;\n",
       "    }\n",
       "\n",
       "    .dataframe thead th {\n",
       "        text-align: right;\n",
       "    }\n",
       "</style>\n",
       "<table border=\"1\" class=\"dataframe\">\n",
       "  <thead>\n",
       "    <tr style=\"text-align: right;\">\n",
       "      <th></th>\n",
       "      <th>Pregnancies</th>\n",
       "      <th>Glucose</th>\n",
       "      <th>BloodPressure</th>\n",
       "      <th>SkinThickness</th>\n",
       "      <th>Insulin</th>\n",
       "      <th>BMI</th>\n",
       "      <th>DiabetesPedigreeFunction</th>\n",
       "      <th>Age</th>\n",
       "      <th>prediction</th>\n",
       "    </tr>\n",
       "  </thead>\n",
       "  <tbody>\n",
       "    <tr>\n",
       "      <th>0</th>\n",
       "      <td>12</td>\n",
       "      <td>140</td>\n",
       "      <td>85</td>\n",
       "      <td>33</td>\n",
       "      <td>0</td>\n",
       "      <td>37.4</td>\n",
       "      <td>0.244</td>\n",
       "      <td>41</td>\n",
       "      <td>1</td>\n",
       "    </tr>\n",
       "    <tr>\n",
       "      <th>1</th>\n",
       "      <td>6</td>\n",
       "      <td>102</td>\n",
       "      <td>90</td>\n",
       "      <td>39</td>\n",
       "      <td>0</td>\n",
       "      <td>35.7</td>\n",
       "      <td>0.674</td>\n",
       "      <td>28</td>\n",
       "      <td>0</td>\n",
       "    </tr>\n",
       "    <tr>\n",
       "      <th>2</th>\n",
       "      <td>7</td>\n",
       "      <td>97</td>\n",
       "      <td>76</td>\n",
       "      <td>32</td>\n",
       "      <td>91</td>\n",
       "      <td>40.9</td>\n",
       "      <td>0.871</td>\n",
       "      <td>32</td>\n",
       "      <td>1</td>\n",
       "    </tr>\n",
       "    <tr>\n",
       "      <th>3</th>\n",
       "      <td>7</td>\n",
       "      <td>179</td>\n",
       "      <td>95</td>\n",
       "      <td>31</td>\n",
       "      <td>0</td>\n",
       "      <td>34.2</td>\n",
       "      <td>0.164</td>\n",
       "      <td>60</td>\n",
       "      <td>1</td>\n",
       "    </tr>\n",
       "    <tr>\n",
       "      <th>4</th>\n",
       "      <td>6</td>\n",
       "      <td>87</td>\n",
       "      <td>80</td>\n",
       "      <td>0</td>\n",
       "      <td>0</td>\n",
       "      <td>23.2</td>\n",
       "      <td>0.084</td>\n",
       "      <td>32</td>\n",
       "      <td>0</td>\n",
       "    </tr>\n",
       "  </tbody>\n",
       "</table>\n",
       "</div>"
      ],
      "text/plain": [
       "   Pregnancies  Glucose  BloodPressure  SkinThickness  Insulin   BMI  \\\n",
       "0           12      140             85             33        0  37.4   \n",
       "1            6      102             90             39        0  35.7   \n",
       "2            7       97             76             32       91  40.9   \n",
       "3            7      179             95             31        0  34.2   \n",
       "4            6       87             80              0        0  23.2   \n",
       "\n",
       "   DiabetesPedigreeFunction  Age  prediction  \n",
       "0                     0.244   41           1  \n",
       "1                     0.674   28           0  \n",
       "2                     0.871   32           1  \n",
       "3                     0.164   60           1  \n",
       "4                     0.084   32           0  "
      ]
     },
     "execution_count": 99,
     "metadata": {},
     "output_type": "execute_result"
    }
   ],
   "source": [
    "test.head()"
   ]
  },
  {
   "cell_type": "code",
   "execution_count": 100,
   "metadata": {
    "colab": {},
    "colab_type": "code",
    "id": "rP3GhTRdNAkx"
   },
   "outputs": [],
   "source": [
    "test.to_csv(os.path.join(path, 'submission_nn.csv'), index=False)"
   ]
  },
  {
   "cell_type": "markdown",
   "metadata": {
    "colab_type": "text",
    "id": "652dzHuKxmeQ"
   },
   "source": [
    "**With class-weights**"
   ]
  },
  {
   "cell_type": "code",
   "execution_count": 45,
   "metadata": {
    "colab": {},
    "colab_type": "code",
    "id": "oFR7hzPFxpg9"
   },
   "outputs": [],
   "source": [
    "model2 = model()"
   ]
  },
  {
   "cell_type": "code",
   "execution_count": 46,
   "metadata": {
    "colab": {},
    "colab_type": "code",
    "id": "a8VtmIuax6Te"
   },
   "outputs": [],
   "source": [
    "model2.compile(optimizer='adam', loss='binary_crossentropy', metrics=['accuracy'])"
   ]
  },
  {
   "cell_type": "code",
   "execution_count": 47,
   "metadata": {
    "colab": {
     "base_uri": "https://localhost:8080/",
     "height": 1000
    },
    "colab_type": "code",
    "executionInfo": {
     "elapsed": 6616,
     "status": "ok",
     "timestamp": 1585208482355,
     "user": {
      "displayName": "Lorenzo Ostano",
      "photoUrl": "https://lh3.googleusercontent.com/a-/AOh14GgFg_mu4dJX96K7a9vTgwq0mMymhejwY6xYsf9DyA=s64",
      "userId": "12249114541243713917"
     },
     "user_tz": -60
    },
    "id": "tAPDUj_6yWUl",
    "outputId": "509b3277-3c81-4147-c574-020f76df4089"
   },
   "outputs": [
    {
     "name": "stdout",
     "output_type": "stream",
     "text": [
      "Epoch 1/100\n",
      "13/13 - 0s - loss: 0.7328 - accuracy: 0.5125 - val_loss: 0.7057 - val_accuracy: 0.4750\n",
      "Epoch 2/100\n",
      "13/13 - 0s - loss: 0.6882 - accuracy: 0.5063 - val_loss: 0.7373 - val_accuracy: 0.4750\n",
      "Epoch 3/100\n",
      "13/13 - 0s - loss: 0.6802 - accuracy: 0.5063 - val_loss: 0.7445 - val_accuracy: 0.4750\n",
      "Epoch 4/100\n",
      "13/13 - 0s - loss: 0.6744 - accuracy: 0.5063 - val_loss: 0.7341 - val_accuracy: 0.4750\n",
      "Epoch 5/100\n",
      "13/13 - 0s - loss: 0.6668 - accuracy: 0.5063 - val_loss: 0.7147 - val_accuracy: 0.4750\n",
      "Epoch 6/100\n",
      "13/13 - 0s - loss: 0.6610 - accuracy: 0.5063 - val_loss: 0.7086 - val_accuracy: 0.4750\n",
      "Epoch 7/100\n",
      "13/13 - 0s - loss: 0.6557 - accuracy: 0.5063 - val_loss: 0.7022 - val_accuracy: 0.4750\n",
      "Epoch 8/100\n",
      "13/13 - 0s - loss: 0.6509 - accuracy: 0.5063 - val_loss: 0.6912 - val_accuracy: 0.4750\n",
      "Epoch 9/100\n",
      "13/13 - 0s - loss: 0.6465 - accuracy: 0.5075 - val_loss: 0.6780 - val_accuracy: 0.4800\n",
      "Epoch 10/100\n",
      "13/13 - 0s - loss: 0.6382 - accuracy: 0.5150 - val_loss: 0.6757 - val_accuracy: 0.4900\n",
      "Epoch 11/100\n",
      "13/13 - 0s - loss: 0.6334 - accuracy: 0.5125 - val_loss: 0.6688 - val_accuracy: 0.5000\n",
      "Epoch 12/100\n",
      "13/13 - 0s - loss: 0.6279 - accuracy: 0.5425 - val_loss: 0.6521 - val_accuracy: 0.5400\n",
      "Epoch 13/100\n",
      "13/13 - 0s - loss: 0.6193 - accuracy: 0.5500 - val_loss: 0.6516 - val_accuracy: 0.5450\n",
      "Epoch 14/100\n",
      "13/13 - 0s - loss: 0.6163 - accuracy: 0.5500 - val_loss: 0.6367 - val_accuracy: 0.5950\n",
      "Epoch 15/100\n",
      "13/13 - 0s - loss: 0.6084 - accuracy: 0.6012 - val_loss: 0.6333 - val_accuracy: 0.6100\n",
      "Epoch 16/100\n",
      "13/13 - 0s - loss: 0.6024 - accuracy: 0.6150 - val_loss: 0.6257 - val_accuracy: 0.6200\n",
      "Epoch 17/100\n",
      "13/13 - 0s - loss: 0.5981 - accuracy: 0.6037 - val_loss: 0.6210 - val_accuracy: 0.6200\n",
      "Epoch 18/100\n",
      "13/13 - 0s - loss: 0.5923 - accuracy: 0.6388 - val_loss: 0.5985 - val_accuracy: 0.6850\n",
      "Epoch 19/100\n",
      "13/13 - 0s - loss: 0.5859 - accuracy: 0.6812 - val_loss: 0.6010 - val_accuracy: 0.6700\n",
      "Epoch 20/100\n",
      "13/13 - 0s - loss: 0.5849 - accuracy: 0.6363 - val_loss: 0.5990 - val_accuracy: 0.6750\n",
      "Epoch 21/100\n",
      "13/13 - 0s - loss: 0.5781 - accuracy: 0.6675 - val_loss: 0.5807 - val_accuracy: 0.7300\n",
      "Epoch 22/100\n",
      "13/13 - 0s - loss: 0.5771 - accuracy: 0.6812 - val_loss: 0.5791 - val_accuracy: 0.7200\n",
      "Epoch 23/100\n",
      "13/13 - 0s - loss: 0.5714 - accuracy: 0.6650 - val_loss: 0.5828 - val_accuracy: 0.6950\n",
      "Epoch 24/100\n",
      "13/13 - 0s - loss: 0.5608 - accuracy: 0.6900 - val_loss: 0.5592 - val_accuracy: 0.7650\n",
      "Epoch 25/100\n",
      "13/13 - 0s - loss: 0.5595 - accuracy: 0.6913 - val_loss: 0.5682 - val_accuracy: 0.7250\n",
      "Epoch 26/100\n",
      "13/13 - 0s - loss: 0.5527 - accuracy: 0.7000 - val_loss: 0.5495 - val_accuracy: 0.7700\n",
      "Epoch 27/100\n",
      "13/13 - 0s - loss: 0.5507 - accuracy: 0.7125 - val_loss: 0.5541 - val_accuracy: 0.7650\n",
      "Epoch 28/100\n",
      "13/13 - 0s - loss: 0.5468 - accuracy: 0.6888 - val_loss: 0.5491 - val_accuracy: 0.7750\n",
      "Epoch 29/100\n",
      "13/13 - 0s - loss: 0.5438 - accuracy: 0.7150 - val_loss: 0.5415 - val_accuracy: 0.7750\n",
      "Epoch 30/100\n",
      "13/13 - 0s - loss: 0.5408 - accuracy: 0.7138 - val_loss: 0.5317 - val_accuracy: 0.7900\n",
      "Epoch 31/100\n",
      "13/13 - 0s - loss: 0.5382 - accuracy: 0.7275 - val_loss: 0.5317 - val_accuracy: 0.7850\n",
      "Epoch 32/100\n",
      "13/13 - 0s - loss: 0.5355 - accuracy: 0.7113 - val_loss: 0.5277 - val_accuracy: 0.7850\n",
      "Epoch 33/100\n",
      "13/13 - 0s - loss: 0.5318 - accuracy: 0.7275 - val_loss: 0.5134 - val_accuracy: 0.8000\n",
      "Epoch 34/100\n",
      "13/13 - 0s - loss: 0.5287 - accuracy: 0.7237 - val_loss: 0.5202 - val_accuracy: 0.7850\n",
      "Epoch 35/100\n",
      "13/13 - 0s - loss: 0.5315 - accuracy: 0.7125 - val_loss: 0.5164 - val_accuracy: 0.7850\n",
      "Epoch 36/100\n",
      "13/13 - 0s - loss: 0.5268 - accuracy: 0.7350 - val_loss: 0.5022 - val_accuracy: 0.8000\n",
      "Epoch 37/100\n",
      "13/13 - 0s - loss: 0.5237 - accuracy: 0.7412 - val_loss: 0.5072 - val_accuracy: 0.7900\n",
      "Epoch 38/100\n",
      "13/13 - 0s - loss: 0.5214 - accuracy: 0.7212 - val_loss: 0.4985 - val_accuracy: 0.8000\n",
      "Epoch 39/100\n",
      "13/13 - 0s - loss: 0.5192 - accuracy: 0.7375 - val_loss: 0.5135 - val_accuracy: 0.7900\n",
      "Epoch 40/100\n",
      "13/13 - 0s - loss: 0.5145 - accuracy: 0.7300 - val_loss: 0.4928 - val_accuracy: 0.8000\n",
      "Epoch 41/100\n",
      "13/13 - 0s - loss: 0.5264 - accuracy: 0.7613 - val_loss: 0.4972 - val_accuracy: 0.7950\n",
      "Epoch 42/100\n",
      "13/13 - 0s - loss: 0.5141 - accuracy: 0.7212 - val_loss: 0.5012 - val_accuracy: 0.7850\n",
      "Epoch 43/100\n",
      "13/13 - 0s - loss: 0.5149 - accuracy: 0.7412 - val_loss: 0.4830 - val_accuracy: 0.8100\n",
      "Epoch 44/100\n",
      "13/13 - 0s - loss: 0.5129 - accuracy: 0.7400 - val_loss: 0.4874 - val_accuracy: 0.8000\n",
      "Epoch 45/100\n",
      "13/13 - 0s - loss: 0.5124 - accuracy: 0.7462 - val_loss: 0.4863 - val_accuracy: 0.8000\n",
      "Epoch 46/100\n",
      "13/13 - 0s - loss: 0.5090 - accuracy: 0.7412 - val_loss: 0.4759 - val_accuracy: 0.8150\n",
      "Epoch 47/100\n",
      "13/13 - 0s - loss: 0.5126 - accuracy: 0.7487 - val_loss: 0.4852 - val_accuracy: 0.8000\n",
      "Epoch 48/100\n",
      "13/13 - 0s - loss: 0.5082 - accuracy: 0.7375 - val_loss: 0.4774 - val_accuracy: 0.8100\n",
      "Epoch 49/100\n",
      "13/13 - 0s - loss: 0.5106 - accuracy: 0.7275 - val_loss: 0.4772 - val_accuracy: 0.8100\n",
      "Epoch 50/100\n",
      "13/13 - 0s - loss: 0.5036 - accuracy: 0.7500 - val_loss: 0.4736 - val_accuracy: 0.8150\n",
      "Epoch 51/100\n",
      "13/13 - 0s - loss: 0.5068 - accuracy: 0.7437 - val_loss: 0.4741 - val_accuracy: 0.8150\n",
      "Epoch 52/100\n",
      "13/13 - 0s - loss: 0.5027 - accuracy: 0.7487 - val_loss: 0.4649 - val_accuracy: 0.8200\n",
      "Epoch 53/100\n",
      "13/13 - 0s - loss: 0.5027 - accuracy: 0.7437 - val_loss: 0.4824 - val_accuracy: 0.7850\n",
      "Epoch 54/100\n",
      "13/13 - 0s - loss: 0.4997 - accuracy: 0.7525 - val_loss: 0.4563 - val_accuracy: 0.8300\n",
      "Epoch 55/100\n",
      "13/13 - 0s - loss: 0.5005 - accuracy: 0.7588 - val_loss: 0.4651 - val_accuracy: 0.8200\n",
      "Epoch 56/100\n",
      "13/13 - 0s - loss: 0.5012 - accuracy: 0.7400 - val_loss: 0.4714 - val_accuracy: 0.8150\n",
      "Epoch 57/100\n",
      "13/13 - 0s - loss: 0.4971 - accuracy: 0.7500 - val_loss: 0.4597 - val_accuracy: 0.8250\n",
      "Epoch 58/100\n",
      "13/13 - 0s - loss: 0.4999 - accuracy: 0.7650 - val_loss: 0.4613 - val_accuracy: 0.8250\n",
      "Epoch 59/100\n",
      "13/13 - 0s - loss: 0.5045 - accuracy: 0.7287 - val_loss: 0.4680 - val_accuracy: 0.8200\n",
      "Epoch 60/100\n",
      "13/13 - 0s - loss: 0.4979 - accuracy: 0.7487 - val_loss: 0.4532 - val_accuracy: 0.8300\n",
      "Epoch 61/100\n",
      "13/13 - 0s - loss: 0.4917 - accuracy: 0.7625 - val_loss: 0.4527 - val_accuracy: 0.8300\n",
      "Epoch 62/100\n",
      "13/13 - 0s - loss: 0.4939 - accuracy: 0.7500 - val_loss: 0.4560 - val_accuracy: 0.8250\n",
      "Epoch 63/100\n",
      "13/13 - 0s - loss: 0.4953 - accuracy: 0.7663 - val_loss: 0.4501 - val_accuracy: 0.8300\n",
      "Epoch 64/100\n",
      "13/13 - 0s - loss: 0.4940 - accuracy: 0.7538 - val_loss: 0.4530 - val_accuracy: 0.8250\n",
      "Epoch 65/100\n",
      "13/13 - 0s - loss: 0.4928 - accuracy: 0.7600 - val_loss: 0.4550 - val_accuracy: 0.8250\n",
      "Epoch 66/100\n",
      "13/13 - 0s - loss: 0.4914 - accuracy: 0.7475 - val_loss: 0.4523 - val_accuracy: 0.8250\n",
      "Epoch 67/100\n",
      "13/13 - 0s - loss: 0.4911 - accuracy: 0.7650 - val_loss: 0.4489 - val_accuracy: 0.8300\n",
      "Epoch 68/100\n",
      "13/13 - 0s - loss: 0.4958 - accuracy: 0.7575 - val_loss: 0.4483 - val_accuracy: 0.8250\n",
      "Epoch 69/100\n",
      "13/13 - 0s - loss: 0.4854 - accuracy: 0.7613 - val_loss: 0.4438 - val_accuracy: 0.8300\n",
      "Epoch 70/100\n",
      "13/13 - 0s - loss: 0.4924 - accuracy: 0.7638 - val_loss: 0.4461 - val_accuracy: 0.8250\n",
      "Epoch 71/100\n",
      "13/13 - 0s - loss: 0.4863 - accuracy: 0.7513 - val_loss: 0.4504 - val_accuracy: 0.8250\n",
      "Epoch 72/100\n",
      "13/13 - 0s - loss: 0.4910 - accuracy: 0.7525 - val_loss: 0.4442 - val_accuracy: 0.8300\n",
      "Epoch 73/100\n",
      "13/13 - 0s - loss: 0.4935 - accuracy: 0.7663 - val_loss: 0.4426 - val_accuracy: 0.8300\n",
      "Epoch 74/100\n",
      "13/13 - 0s - loss: 0.4919 - accuracy: 0.7437 - val_loss: 0.4477 - val_accuracy: 0.8250\n",
      "Epoch 75/100\n",
      "13/13 - 0s - loss: 0.4882 - accuracy: 0.7663 - val_loss: 0.4399 - val_accuracy: 0.8300\n",
      "Epoch 76/100\n",
      "13/13 - 0s - loss: 0.4925 - accuracy: 0.7350 - val_loss: 0.4412 - val_accuracy: 0.8250\n",
      "Epoch 77/100\n",
      "13/13 - 0s - loss: 0.4869 - accuracy: 0.7600 - val_loss: 0.4346 - val_accuracy: 0.8300\n",
      "Epoch 78/100\n",
      "13/13 - 0s - loss: 0.4856 - accuracy: 0.7638 - val_loss: 0.4496 - val_accuracy: 0.8250\n",
      "Epoch 79/100\n",
      "13/13 - 0s - loss: 0.4900 - accuracy: 0.7525 - val_loss: 0.4410 - val_accuracy: 0.8250\n",
      "Epoch 80/100\n",
      "13/13 - 0s - loss: 0.4807 - accuracy: 0.7650 - val_loss: 0.4343 - val_accuracy: 0.8300\n",
      "Epoch 81/100\n",
      "13/13 - 0s - loss: 0.4847 - accuracy: 0.7725 - val_loss: 0.4441 - val_accuracy: 0.8250\n",
      "Epoch 82/100\n",
      "13/13 - 0s - loss: 0.4901 - accuracy: 0.7513 - val_loss: 0.4372 - val_accuracy: 0.8300\n",
      "Epoch 83/100\n"
     ]
    },
    {
     "name": "stdout",
     "output_type": "stream",
     "text": [
      "13/13 - 0s - loss: 0.4903 - accuracy: 0.7550 - val_loss: 0.4355 - val_accuracy: 0.8300\n",
      "Epoch 84/100\n",
      "13/13 - 0s - loss: 0.4864 - accuracy: 0.7700 - val_loss: 0.4290 - val_accuracy: 0.8300\n",
      "Epoch 85/100\n",
      "13/13 - 0s - loss: 0.4847 - accuracy: 0.7638 - val_loss: 0.4325 - val_accuracy: 0.8300\n",
      "Epoch 86/100\n",
      "13/13 - 0s - loss: 0.4824 - accuracy: 0.7550 - val_loss: 0.4325 - val_accuracy: 0.8300\n",
      "Epoch 87/100\n",
      "13/13 - 0s - loss: 0.4841 - accuracy: 0.7663 - val_loss: 0.4338 - val_accuracy: 0.8250\n",
      "Epoch 88/100\n",
      "13/13 - 0s - loss: 0.4859 - accuracy: 0.7613 - val_loss: 0.4335 - val_accuracy: 0.8250\n",
      "Epoch 89/100\n",
      "13/13 - 0s - loss: 0.4865 - accuracy: 0.7625 - val_loss: 0.4314 - val_accuracy: 0.8300\n",
      "Epoch 90/100\n",
      "13/13 - 0s - loss: 0.4839 - accuracy: 0.7688 - val_loss: 0.4284 - val_accuracy: 0.8300\n",
      "Epoch 91/100\n",
      "13/13 - 0s - loss: 0.4869 - accuracy: 0.7625 - val_loss: 0.4356 - val_accuracy: 0.8250\n",
      "Epoch 92/100\n",
      "13/13 - 0s - loss: 0.4826 - accuracy: 0.7675 - val_loss: 0.4255 - val_accuracy: 0.8300\n",
      "Epoch 93/100\n",
      "13/13 - 0s - loss: 0.4831 - accuracy: 0.7500 - val_loss: 0.4303 - val_accuracy: 0.8250\n",
      "Epoch 94/100\n",
      "13/13 - 0s - loss: 0.4880 - accuracy: 0.7713 - val_loss: 0.4288 - val_accuracy: 0.8250\n",
      "Epoch 95/100\n",
      "13/13 - 0s - loss: 0.4811 - accuracy: 0.7650 - val_loss: 0.4212 - val_accuracy: 0.8300\n",
      "Epoch 96/100\n",
      "13/13 - 0s - loss: 0.4805 - accuracy: 0.7725 - val_loss: 0.4277 - val_accuracy: 0.8250\n",
      "Epoch 97/100\n",
      "13/13 - 0s - loss: 0.4832 - accuracy: 0.7688 - val_loss: 0.4275 - val_accuracy: 0.8250\n",
      "Epoch 98/100\n",
      "13/13 - 0s - loss: 0.4864 - accuracy: 0.7550 - val_loss: 0.4202 - val_accuracy: 0.8300\n",
      "Epoch 99/100\n",
      "13/13 - 0s - loss: 0.4801 - accuracy: 0.7763 - val_loss: 0.4191 - val_accuracy: 0.8300\n",
      "Epoch 100/100\n",
      "13/13 - 0s - loss: 0.4777 - accuracy: 0.7725 - val_loss: 0.4253 - val_accuracy: 0.8300\n"
     ]
    },
    {
     "data": {
      "text/plain": [
       "<tensorflow.python.keras.callbacks.History at 0x2d5c1053b80>"
      ]
     },
     "execution_count": 47,
     "metadata": {},
     "output_type": "execute_result"
    }
   ],
   "source": [
    "model2.fit(X_train, y_train, batch_size=64, epochs=100, verbose=2, validation_data=(X_valid, y_valid)\n",
    "    , class_weight=dict(enumerate(class_weights)))"
   ]
  },
  {
   "cell_type": "code",
   "execution_count": 48,
   "metadata": {
    "colab": {},
    "colab_type": "code",
    "id": "3dW7Hd65yb_a"
   },
   "outputs": [],
   "source": [
    "y_pred = model2.predict(X_valid)\n",
    "y_pred = y_pred.reshape((y_pred.shape[0],))\n",
    "y_pred = np.where(y_pred > 0.5, 1, 0)"
   ]
  },
  {
   "cell_type": "code",
   "execution_count": 49,
   "metadata": {
    "colab": {
     "base_uri": "https://localhost:8080/",
     "height": 51
    },
    "colab_type": "code",
    "executionInfo": {
     "elapsed": 1007,
     "status": "ok",
     "timestamp": 1585208566677,
     "user": {
      "displayName": "Lorenzo Ostano",
      "photoUrl": "https://lh3.googleusercontent.com/a-/AOh14GgFg_mu4dJX96K7a9vTgwq0mMymhejwY6xYsf9DyA=s64",
      "userId": "12249114541243713917"
     },
     "user_tz": -60
    },
    "id": "djnZnAHpypTT",
    "outputId": "33aea2d4-4cd0-4cf8-cafc-c2b474429a82"
   },
   "outputs": [
    {
     "name": "stdout",
     "output_type": "stream",
     "text": [
      "[[74 31]\n",
      " [ 3 92]]\n"
     ]
    }
   ],
   "source": [
    "from sklearn.metrics import confusion_matrix\n",
    "confusion_matrix = confusion_matrix(y_valid, y_pred)\n",
    "print(confusion_matrix)"
   ]
  },
  {
   "cell_type": "code",
   "execution_count": 50,
   "metadata": {
    "colab": {
     "base_uri": "https://localhost:8080/",
     "height": 170
    },
    "colab_type": "code",
    "executionInfo": {
     "elapsed": 990,
     "status": "ok",
     "timestamp": 1585208597507,
     "user": {
      "displayName": "Lorenzo Ostano",
      "photoUrl": "https://lh3.googleusercontent.com/a-/AOh14GgFg_mu4dJX96K7a9vTgwq0mMymhejwY6xYsf9DyA=s64",
      "userId": "12249114541243713917"
     },
     "user_tz": -60
    },
    "id": "B7oWosqFyx7w",
    "outputId": "b9eae720-e686-45d0-f738-dbd9a0870359"
   },
   "outputs": [
    {
     "name": "stdout",
     "output_type": "stream",
     "text": [
      "              precision    recall  f1-score   support\n",
      "\n",
      "           0       0.96      0.70      0.81       105\n",
      "           1       0.75      0.97      0.84        95\n",
      "\n",
      "    accuracy                           0.83       200\n",
      "   macro avg       0.85      0.84      0.83       200\n",
      "weighted avg       0.86      0.83      0.83       200\n",
      "\n"
     ]
    }
   ],
   "source": [
    "from sklearn.metrics import classification_report\n",
    "print(classification_report(y_valid, y_pred))"
   ]
  },
  {
   "cell_type": "code",
   "execution_count": 0,
   "metadata": {
    "colab": {},
    "colab_type": "code",
    "id": "6za41oJey5ev"
   },
   "outputs": [],
   "source": []
  }
 ],
 "metadata": {
  "accelerator": "GPU",
  "colab": {
   "authorship_tag": "ABX9TyOip3C9xjhxQ61J5kwN/rW8",
   "collapsed_sections": [],
   "mount_file_id": "1PQ5KzqRxAgjobLmQrzN70RdQjQB004cs",
   "name": "NN_classifier.ipynb",
   "provenance": []
  },
  "kernelspec": {
   "display_name": "Python 3",
   "language": "python",
   "name": "python3"
  },
  "language_info": {
   "codemirror_mode": {
    "name": "ipython",
    "version": 3
   },
   "file_extension": ".py",
   "mimetype": "text/x-python",
   "name": "python",
   "nbconvert_exporter": "python",
   "pygments_lexer": "ipython3",
   "version": "3.8.3"
  }
 },
 "nbformat": 4,
 "nbformat_minor": 1
}
